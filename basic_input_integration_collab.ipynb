{
  "nbformat": 4,
  "nbformat_minor": 0,
  "metadata": {
    "colab": {
      "provenance": [],
      "authorship_tag": "ABX9TyNfXG9oz+7Rj2riLxer2/09",
      "include_colab_link": true
    },
    "kernelspec": {
      "name": "python3",
      "display_name": "Python 3"
    },
    "language_info": {
      "name": "python"
    },
    "accelerator": "GPU",
    "gpuClass": "standard",
    "widgets": {
      "application/vnd.jupyter.widget-state+json": {
        "16ac3fde588f4d48a9a61b701331256e": {
          "model_module": "jupyter-matplotlib",
          "model_name": "MPLCanvasModel",
          "model_module_version": "^0.11",
          "state": {
            "_cursor": "default",
            "_data_url": "data:image/png;base64,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",
            "_dom_classes": [],
            "_figure_label": "Figure 15",
            "_image_mode": "full",
            "_message": "",
            "_model_module": "jupyter-matplotlib",
            "_model_module_version": "^0.11",
            "_model_name": "MPLCanvasModel",
            "_rubberband_height": 0,
            "_rubberband_width": 0,
            "_rubberband_x": 0,
            "_rubberband_y": 0,
            "_size": [
              803,
              264
            ],
            "_view_count": null,
            "_view_module": "jupyter-matplotlib",
            "_view_module_version": "^0.11",
            "_view_name": "MPLCanvasView",
            "capture_scroll": false,
            "footer_visible": true,
            "header_visible": true,
            "layout": "IPY_MODEL_ff33a338118a489caa0531e5536aa5f1",
            "pan_zoom_throttle": 33,
            "resizable": true,
            "toolbar": "IPY_MODEL_2a6cb55fe22d47e5b5a74b6e9437fd7c",
            "toolbar_position": "left",
            "toolbar_visible": "fade-in-fade-out"
          }
        },
        "ff33a338118a489caa0531e5536aa5f1": {
          "model_module": "@jupyter-widgets/base",
          "model_name": "LayoutModel",
          "model_module_version": "1.2.0",
          "state": {
            "_model_module": "@jupyter-widgets/base",
            "_model_module_version": "1.2.0",
            "_model_name": "LayoutModel",
            "_view_count": null,
            "_view_module": "@jupyter-widgets/base",
            "_view_module_version": "1.2.0",
            "_view_name": "LayoutView",
            "align_content": null,
            "align_items": null,
            "align_self": null,
            "border": null,
            "bottom": null,
            "display": null,
            "flex": null,
            "flex_flow": null,
            "grid_area": null,
            "grid_auto_columns": null,
            "grid_auto_flow": null,
            "grid_auto_rows": null,
            "grid_column": null,
            "grid_gap": null,
            "grid_row": null,
            "grid_template_areas": null,
            "grid_template_columns": null,
            "grid_template_rows": null,
            "height": null,
            "justify_content": null,
            "justify_items": null,
            "left": null,
            "margin": null,
            "max_height": null,
            "max_width": null,
            "min_height": null,
            "min_width": null,
            "object_fit": null,
            "object_position": null,
            "order": null,
            "overflow": null,
            "overflow_x": null,
            "overflow_y": null,
            "padding": null,
            "right": null,
            "top": null,
            "visibility": null,
            "width": null
          }
        },
        "2a6cb55fe22d47e5b5a74b6e9437fd7c": {
          "model_module": "jupyter-matplotlib",
          "model_name": "ToolbarModel",
          "model_module_version": "^0.11",
          "state": {
            "_current_action": "",
            "_dom_classes": [],
            "_model_module": "jupyter-matplotlib",
            "_model_module_version": "^0.11",
            "_model_name": "ToolbarModel",
            "_view_count": null,
            "_view_module": "jupyter-matplotlib",
            "_view_module_version": "^0.11",
            "_view_name": "ToolbarView",
            "button_style": "",
            "collapsed": true,
            "layout": "IPY_MODEL_767fb84b1a8e41589f61fe446817b4ad",
            "orientation": "vertical",
            "toolitems": [
              [
                "Home",
                "Reset original view",
                "home",
                "home"
              ],
              [
                "Back",
                "Back to previous view",
                "arrow-left",
                "back"
              ],
              [
                "Forward",
                "Forward to next view",
                "arrow-right",
                "forward"
              ],
              [
                "Pan",
                "Left button pans, Right button zooms\nx/y fixes axis, CTRL fixes aspect",
                "arrows",
                "pan"
              ],
              [
                "Zoom",
                "Zoom to rectangle\nx/y fixes axis",
                "square-o",
                "zoom"
              ],
              [
                "Download",
                "Download plot",
                "floppy-o",
                "save_figure"
              ]
            ]
          }
        },
        "767fb84b1a8e41589f61fe446817b4ad": {
          "model_module": "@jupyter-widgets/base",
          "model_name": "LayoutModel",
          "model_module_version": "1.2.0",
          "state": {
            "_model_module": "@jupyter-widgets/base",
            "_model_module_version": "1.2.0",
            "_model_name": "LayoutModel",
            "_view_count": null,
            "_view_module": "@jupyter-widgets/base",
            "_view_module_version": "1.2.0",
            "_view_name": "LayoutView",
            "align_content": null,
            "align_items": null,
            "align_self": null,
            "border": null,
            "bottom": null,
            "display": null,
            "flex": null,
            "flex_flow": null,
            "grid_area": null,
            "grid_auto_columns": null,
            "grid_auto_flow": null,
            "grid_auto_rows": null,
            "grid_column": null,
            "grid_gap": null,
            "grid_row": null,
            "grid_template_areas": null,
            "grid_template_columns": null,
            "grid_template_rows": null,
            "height": null,
            "justify_content": null,
            "justify_items": null,
            "left": null,
            "margin": null,
            "max_height": null,
            "max_width": null,
            "min_height": null,
            "min_width": null,
            "object_fit": null,
            "object_position": null,
            "order": null,
            "overflow": null,
            "overflow_x": null,
            "overflow_y": null,
            "padding": null,
            "right": null,
            "top": null,
            "visibility": null,
            "width": null
          }
        },
        "d6f9a2d98a2e4e4ab9e3d96f74fc2f8d": {
          "model_module": "jupyter-matplotlib",
          "model_name": "MPLCanvasModel",
          "model_module_version": "^0.11",
          "state": {
            "_cursor": "default",
            "_data_url": "data:image/png;base64,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",
            "_dom_classes": [],
            "_figure_label": "Figure 17",
            "_image_mode": "full",
            "_message": "",
            "_model_module": "jupyter-matplotlib",
            "_model_module_version": "^0.11",
            "_model_name": "MPLCanvasModel",
            "_rubberband_height": 0,
            "_rubberband_width": 0,
            "_rubberband_x": 0,
            "_rubberband_y": 0,
            "_size": [
              432,
              288
            ],
            "_view_count": null,
            "_view_module": "jupyter-matplotlib",
            "_view_module_version": "^0.11",
            "_view_name": "MPLCanvasView",
            "capture_scroll": false,
            "footer_visible": true,
            "header_visible": true,
            "layout": "IPY_MODEL_32353367ddb9411388324452b8eb7304",
            "pan_zoom_throttle": 33,
            "resizable": true,
            "toolbar": "IPY_MODEL_cfd7a2d2347f41c693814e64b9e9b99c",
            "toolbar_position": "left",
            "toolbar_visible": "fade-in-fade-out"
          }
        },
        "32353367ddb9411388324452b8eb7304": {
          "model_module": "@jupyter-widgets/base",
          "model_name": "LayoutModel",
          "model_module_version": "1.2.0",
          "state": {
            "_model_module": "@jupyter-widgets/base",
            "_model_module_version": "1.2.0",
            "_model_name": "LayoutModel",
            "_view_count": null,
            "_view_module": "@jupyter-widgets/base",
            "_view_module_version": "1.2.0",
            "_view_name": "LayoutView",
            "align_content": null,
            "align_items": null,
            "align_self": null,
            "border": null,
            "bottom": null,
            "display": null,
            "flex": null,
            "flex_flow": null,
            "grid_area": null,
            "grid_auto_columns": null,
            "grid_auto_flow": null,
            "grid_auto_rows": null,
            "grid_column": null,
            "grid_gap": null,
            "grid_row": null,
            "grid_template_areas": null,
            "grid_template_columns": null,
            "grid_template_rows": null,
            "height": null,
            "justify_content": null,
            "justify_items": null,
            "left": null,
            "margin": null,
            "max_height": null,
            "max_width": null,
            "min_height": null,
            "min_width": null,
            "object_fit": null,
            "object_position": null,
            "order": null,
            "overflow": null,
            "overflow_x": null,
            "overflow_y": null,
            "padding": null,
            "right": null,
            "top": null,
            "visibility": null,
            "width": null
          }
        },
        "cfd7a2d2347f41c693814e64b9e9b99c": {
          "model_module": "jupyter-matplotlib",
          "model_name": "ToolbarModel",
          "model_module_version": "^0.11",
          "state": {
            "_current_action": "",
            "_dom_classes": [],
            "_model_module": "jupyter-matplotlib",
            "_model_module_version": "^0.11",
            "_model_name": "ToolbarModel",
            "_view_count": null,
            "_view_module": "jupyter-matplotlib",
            "_view_module_version": "^0.11",
            "_view_name": "ToolbarView",
            "button_style": "",
            "collapsed": true,
            "layout": "IPY_MODEL_e768d703fec54ee2a0c23cb8689a350b",
            "orientation": "vertical",
            "toolitems": [
              [
                "Home",
                "Reset original view",
                "home",
                "home"
              ],
              [
                "Back",
                "Back to previous view",
                "arrow-left",
                "back"
              ],
              [
                "Forward",
                "Forward to next view",
                "arrow-right",
                "forward"
              ],
              [
                "Pan",
                "Left button pans, Right button zooms\nx/y fixes axis, CTRL fixes aspect",
                "arrows",
                "pan"
              ],
              [
                "Zoom",
                "Zoom to rectangle\nx/y fixes axis",
                "square-o",
                "zoom"
              ],
              [
                "Download",
                "Download plot",
                "floppy-o",
                "save_figure"
              ]
            ]
          }
        },
        "e768d703fec54ee2a0c23cb8689a350b": {
          "model_module": "@jupyter-widgets/base",
          "model_name": "LayoutModel",
          "model_module_version": "1.2.0",
          "state": {
            "_model_module": "@jupyter-widgets/base",
            "_model_module_version": "1.2.0",
            "_model_name": "LayoutModel",
            "_view_count": null,
            "_view_module": "@jupyter-widgets/base",
            "_view_module_version": "1.2.0",
            "_view_name": "LayoutView",
            "align_content": null,
            "align_items": null,
            "align_self": null,
            "border": null,
            "bottom": null,
            "display": null,
            "flex": null,
            "flex_flow": null,
            "grid_area": null,
            "grid_auto_columns": null,
            "grid_auto_flow": null,
            "grid_auto_rows": null,
            "grid_column": null,
            "grid_gap": null,
            "grid_row": null,
            "grid_template_areas": null,
            "grid_template_columns": null,
            "grid_template_rows": null,
            "height": null,
            "justify_content": null,
            "justify_items": null,
            "left": null,
            "margin": null,
            "max_height": null,
            "max_width": null,
            "min_height": null,
            "min_width": null,
            "object_fit": null,
            "object_position": null,
            "order": null,
            "overflow": null,
            "overflow_x": null,
            "overflow_y": null,
            "padding": null,
            "right": null,
            "top": null,
            "visibility": null,
            "width": null
          }
        },
        "06f34eb7b4e145c993b7ef3153aa2b57": {
          "model_module": "jupyter-matplotlib",
          "model_name": "MPLCanvasModel",
          "model_module_version": "^0.11",
          "state": {
            "_cursor": "default",
            "_data_url": "data:image/png;base64,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",
            "_dom_classes": [],
            "_figure_label": "Figure 1",
            "_image_mode": "full",
            "_message": "",
            "_model_module": "jupyter-matplotlib",
            "_model_module_version": "^0.11",
            "_model_name": "MPLCanvasModel",
            "_rubberband_height": 0,
            "_rubberband_width": 0,
            "_rubberband_x": 0,
            "_rubberband_y": 0,
            "_size": [
              755,
              261
            ],
            "_view_count": null,
            "_view_module": "jupyter-matplotlib",
            "_view_module_version": "^0.11",
            "_view_name": "MPLCanvasView",
            "capture_scroll": false,
            "footer_visible": true,
            "header_visible": true,
            "layout": "IPY_MODEL_ab259086e5c941b7a125a060871a812d",
            "pan_zoom_throttle": 33,
            "resizable": true,
            "toolbar": "IPY_MODEL_98cc506c2c6b4bdb9e01ea276509ec61",
            "toolbar_position": "left",
            "toolbar_visible": "fade-in-fade-out"
          }
        },
        "ab259086e5c941b7a125a060871a812d": {
          "model_module": "@jupyter-widgets/base",
          "model_name": "LayoutModel",
          "model_module_version": "1.2.0",
          "state": {
            "_model_module": "@jupyter-widgets/base",
            "_model_module_version": "1.2.0",
            "_model_name": "LayoutModel",
            "_view_count": null,
            "_view_module": "@jupyter-widgets/base",
            "_view_module_version": "1.2.0",
            "_view_name": "LayoutView",
            "align_content": null,
            "align_items": null,
            "align_self": null,
            "border": null,
            "bottom": null,
            "display": null,
            "flex": null,
            "flex_flow": null,
            "grid_area": null,
            "grid_auto_columns": null,
            "grid_auto_flow": null,
            "grid_auto_rows": null,
            "grid_column": null,
            "grid_gap": null,
            "grid_row": null,
            "grid_template_areas": null,
            "grid_template_columns": null,
            "grid_template_rows": null,
            "height": null,
            "justify_content": null,
            "justify_items": null,
            "left": null,
            "margin": null,
            "max_height": null,
            "max_width": null,
            "min_height": null,
            "min_width": null,
            "object_fit": null,
            "object_position": null,
            "order": null,
            "overflow": null,
            "overflow_x": null,
            "overflow_y": null,
            "padding": null,
            "right": null,
            "top": null,
            "visibility": null,
            "width": null
          }
        },
        "98cc506c2c6b4bdb9e01ea276509ec61": {
          "model_module": "jupyter-matplotlib",
          "model_name": "ToolbarModel",
          "model_module_version": "^0.11",
          "state": {
            "_current_action": "",
            "_dom_classes": [],
            "_model_module": "jupyter-matplotlib",
            "_model_module_version": "^0.11",
            "_model_name": "ToolbarModel",
            "_view_count": null,
            "_view_module": "jupyter-matplotlib",
            "_view_module_version": "^0.11",
            "_view_name": "ToolbarView",
            "button_style": "",
            "collapsed": true,
            "layout": "IPY_MODEL_27ea9fb717824e6f9c4386df1621cc6b",
            "orientation": "vertical",
            "toolitems": [
              [
                "Home",
                "Reset original view",
                "home",
                "home"
              ],
              [
                "Back",
                "Back to previous view",
                "arrow-left",
                "back"
              ],
              [
                "Forward",
                "Forward to next view",
                "arrow-right",
                "forward"
              ],
              [
                "Pan",
                "Left button pans, Right button zooms\nx/y fixes axis, CTRL fixes aspect",
                "arrows",
                "pan"
              ],
              [
                "Zoom",
                "Zoom to rectangle\nx/y fixes axis",
                "square-o",
                "zoom"
              ],
              [
                "Download",
                "Download plot",
                "floppy-o",
                "save_figure"
              ]
            ]
          }
        },
        "27ea9fb717824e6f9c4386df1621cc6b": {
          "model_module": "@jupyter-widgets/base",
          "model_name": "LayoutModel",
          "model_module_version": "1.2.0",
          "state": {
            "_model_module": "@jupyter-widgets/base",
            "_model_module_version": "1.2.0",
            "_model_name": "LayoutModel",
            "_view_count": null,
            "_view_module": "@jupyter-widgets/base",
            "_view_module_version": "1.2.0",
            "_view_name": "LayoutView",
            "align_content": null,
            "align_items": null,
            "align_self": null,
            "border": null,
            "bottom": null,
            "display": null,
            "flex": null,
            "flex_flow": null,
            "grid_area": null,
            "grid_auto_columns": null,
            "grid_auto_flow": null,
            "grid_auto_rows": null,
            "grid_column": null,
            "grid_gap": null,
            "grid_row": null,
            "grid_template_areas": null,
            "grid_template_columns": null,
            "grid_template_rows": null,
            "height": null,
            "justify_content": null,
            "justify_items": null,
            "left": null,
            "margin": null,
            "max_height": null,
            "max_width": null,
            "min_height": null,
            "min_width": null,
            "object_fit": null,
            "object_position": null,
            "order": null,
            "overflow": null,
            "overflow_x": null,
            "overflow_y": null,
            "padding": null,
            "right": null,
            "top": null,
            "visibility": null,
            "width": null
          }
        },
        "b0dc7df965f34293a52d12a0233bea46": {
          "model_module": "jupyter-matplotlib",
          "model_name": "MPLCanvasModel",
          "model_module_version": "^0.11",
          "state": {
            "_cursor": "default",
            "_data_url": "data:image/png;base64,iVBORw0KGgoAAAANSUhEUgAAA2AAAADYCAYAAACN44AhAAAAOXRFWHRTb2Z0d2FyZQBNYXRwbG90bGliIHZlcnNpb24zLjUuMywgaHR0cHM6Ly9tYXRwbG90bGliLm9yZy/NK7nSAAAACXBIWXMAAAsTAAALEwEAmpwYAAAw90lEQVR4nO3deZwdZZn3/8/VWzprZyX7AiFA2AfSbALmoAiICIq2wzgzzjgjPj2gjI8acWkXwvzElplxRsaeBwXBQZEWdFAEBOGwiUInBiEQISEkJB2ykaXTnaW36/fHqT69ZOsknXNXnfN9v1796lP32b6nqvruuk5V3WXujoiIiIiIiBx+RaEDiIiIiIiIFAoVYCIiIiIiIjmiAkxERERERCRHVICJiIiIiIjkiAowERERERGRHFEBJiIiIiIikiMqwERERERERHJEBZiIiIiIiEiOqAATERERERHJERVgIglhZivM7N17ue88M3s115lERCQ3zOzrZnZX6BwicuhUgInkAXd/2t2PPdzvY2anmtlCM9se/T51H499wsx2mllz9KMCUUQSx8zONbNnzWyrmW0ys9+ZWWXoXAdiX1/gDfD7qEgU6QcVYCLSL2ZWBtwP3AWMAu4E7o/a9+Zadx8W/Rz2AlFEZCCZ2QjgAeC7wGhgMvANYFfIXCKSbCrARJKl0sxeMbPNZvZDMysHMLO5Zra660Fmdr2ZvW5m26LHf6DHfUeb2ZPRt7kbzeyefr73XKAE+I6773L3/wQMuGDgPp6ISKwcA+Dud7t7h7vvcPdH3P1FADObaWaPm9nbUX/6YzMb2fXkaM/T583sRTNrMbPbzGy8mT0U9c+/NbNR0WNnmJmb2dVmtsbM3jKzz+0tmJmdFe2Z22JmfzKzuf35QGb2d2b2jJndHP0vecPMLulx/xNm9k0ze97MmszsfjMbHd3X639Nj8/4bjO7GPgS8JHoqIc/9XMeixQcFWAiyfJR4CJgJpkNg6/s5XGvA+cBFWS+rb3LzCZG980HHiGzF2sKmW92ATCzB8zs+r285gnAi+7uPdpejNr35pvRRsnv+rtxICISI68BHWZ2p5ld0lUs9WDAN4FJwGxgKvD1Po+5EriQTJ99GfAQmUJlHJntsE/3eXwKmAW8B/jCng4dNLPJwK+BG8nsmfsccJ+Zjevn5zoTeBUYC9QCt5mZ9bj/b4GPAxOBduA/9/eC7v4w8P8B90RHPZzSzywiBUcFmEiy3OLuq9x9E/AvwFV7epC7/8zd17h7p7vfAywFzojubgOmA5Pcfae7P9Pjee9z95v28t7DgK192rYCw/fy+C8AR5E5ZOdW4FdmNnP/H1FEJB7cvQk4F3Dg+8AGM/ulmY2P7l/m7o9GRwVsAP4NeGefl/muu69z90bgaeA5d1/k7juBXwB/0efx33D3Fnd/Cfghe+7n/xp40N0fjPr5R4EFwHv7+dFWuvv33b2DzOHkE4HxPe7/H3df7O4tQA1QZWbF/XxtEdkPFWAiybKqx+2VZL513Y2Z/a2ZvRAdmrIFOJHMN50A88h8a/u8mb1sZh/v53s3AyP6tI0Atu3pwe7+nLtvizZM7gR+R/83DkREYsHdl7j737n7FDJ96STgOwDR4YQ/NbNGM2sic47s2D4vsa7H7R17mB7W5/H96eenAx/u6uOjfv5cMoVUf6zt8fm2Rzd75uiboZTdP5eIHCQVYCLJMrXH7WnAmr4PMLPpZL6pvRYY4+4jgcVkii7cfa27f8LdJwGfBL5nZkf3471fBk7uc5jKyVF7f3hXBhGRJHL3PwN3kCnEIHPInQMnufsIMnumDrWf228/T6ZA+h93H9njZ+g+jmA41AxtwEagBRjSdUe0V6znYY89D1EXkb1QASaSLNeY2ZTohOgvA3saQGMomX+CGwDM7O/p3ljAzD5sZlOiyc3RYzv78d5PAB3Ap81skJldG7U/3veBZjbSzC4ys3IzKzGzjwLnAw/350OKiMSBmR1nZp/t6jPNbCqZQwL/ED1kOJmjA7ZG52V9fgDetsbMhpjZCcDfs+d+/i7gsqifLY762rk9+vZD9ddmdryZDQFuAO6NDld8DSg3s0vNrJTMeciDejxvHTDDzLR9KbIP+gMRSZafkBlAYzmZgTZu7PsAd38F+Ffg92T+GZ5E5vC/LpXAc2bWDPwSuM7dlwNEI3N9aU9v7O6twBVkTs7eQuYE7SuidszsS2b2UPTw0ijbBjLfmn4qeuxrB/vBRUQC2EZmwIrnzKyFTOG1GPhsdP83gNPInA/7a+DnA/CeTwLLgMeAm939kb4PcPdVwOVkBvPYQGaP2OcZuO26/yGzp28tUE40UIi7bwX+CfgB0Ehmj1jPURF/Fv1+28z+OEBZRPKO9R7QTERERERyzcxmAG8Ape7eHjDHE8Bd7v6DUBlE8p32gImIiIiIiOSICjAREREREZEc0SGIIiIiIiIiOaI9YCIiIiIiIjmiAkxERERERCRHSkIHkAMzduxYnzFjRugYIiIHbOHChRvdfdz+H5k/1GeLSJIVYr+dCyrAEmbGjBksWLAgdAwRkQNmZitDZ8g19dkikmSF2G/ngg5BFBERERERyREVYCIiIiIiIjmiAkzkANXW1pJOp3u1pdNpamtrAyUKQ/Mh/rSMRERE4kcFmMgBqqyspKqqKrthm06nqaqqorKyMnCy3NJ8iD8tIxERkfjRIBwiByiVSlFfX09VVRXV1dXU1dVRX19PKpUKHS2nNB/iT8somWqWrmZx847QMUQkj5w4bDDzZ00JHUMi2gMmchBSqRTV1dXMnz+f6urqgt2g1XyIPy0jERGReNEeMJGDkE6nqauro6amhrq6OlKpVEFu2Go+xJ+WUfLoW2oRkfymAkzkAHWdR9N1KFcqleo1XSg0H+JPy0gKXVPTS6xafQe4Z9tKy8Yw6+jrMSsOFyyHGhvvZsuWhl5tY8a8kwkTLg+USNrbm1m27CY6OrZn28xKmDHjGoYMmR4wmeSKCjCRA9TQ0NBrA7brPJuGhoaC2qjVfIg/LSMpdGvW3MO6db+ivHwyAB0dO2ltXc/ECR9k+PDZgdPlxuvL/xX3dkpLRwHQ2rqJrU0vqAALaMuW52lcczeDBk2kqKgUgB073mTwkOkcOeOawOkkF8x7fCsk8TdnzhxfsGBB6BgiIgfMzBa6+5zQOXJJfXZYixZ9jPb2JiorfwFk9og1LLiCk0+qY9y49wROd/i1t2/jyadO5eiZ85g+/ZMALFtWy5urbic19+WC2QsYN6tW3cFrS+dz3rnPU1Y2BoCnnzmTsWMuYPbsbwZO11sh9tu5oD1gIiIiMdLaupGOjp2hY+SF7TtWMmLESdnpwYOnAtC07WWGDTs+VKyc2b59OQDlg6dl28oHT8G9jaamFykrGxcqWkFrbn6V4uIhlJaOzraVl0+lZfvr7Nix+rC8Z0nJcEpLKw7La8uBUwEmIiISI39+tYYNGx4JHSNvTBh/WfZ2SUkFpaWjWLHiFlasuCVgqtwaMnhG9+0hRwKwYOGHAqURgGHDjsfMstNDhsxg7dpf8Ozv33lY3m/G9H9i5szPHpbXlgOnAkxERCRGpkz+G8aOfVfoGHnBKGLs2Au6p8045ZTbaGlZGjBVbpWWVDBs2HHZ6VEjz+TEE2+ho6MlYCoZMfzkXtMzZ36OUaPOOmzv13MdkPBUgImIiMTI6NHnhI6Q1ypGnELFiFNCxwjGrIjxR1wSOob0UT5oApMmaq9kodCFmEVERERERHJEBZiIiIiIiEiOqAATERERERHJERVg0i+1tbWk0+lebel0mtra2kCJ4k3zK39oWYqIiMhA0iAc0i+VlZVUVVVRX19PKpUinU5np2V3ml/5Q8tScu2hhx5i7dq1oWOISB6ZMGECl1yiwVfiQgWY9EsqlaK+vp6qqiqqq6upq6vLbpDK7jS/8oeWpYiIiAwkFWDSb6lUiurqaubPn09NTY02QPdD8yt/aFlKLulbahGR/KYCTPotnU5TV1dHTU0NdXV1pFIpbYjug+ZX/tCylCTy9k6afruSzp0d2TYrMoa9YxIlYwYHTBYvnTvaaXr8TbytM9tmxcbwuVMpHl4WMJnsT/vmnTQ/3Yh3erbNBhVT8e5pWGlxwGQi+6YCTPql53kvXRufPaelN82v/KFlKUm1a2UT255YjZWXYMUGQGdLG1ZeTMV7ZoQNFyM7X91E89ONFA0pATPA6Wxpp2TsYIadPSl0PNmH7X9cT/OzaygaWgqAdzq+o53ymSMpP2ZU4HQie6dREKVfGhoaem1wdp0X09DQEDhZPGl+5Q8tS0mqjk07ARj/6b9gUs1ZTKo5i+KRg+jYvCtwsnhpj+bThOvPYFLNWUz88llQUkT75p2Bk8n+tG/aSdHwsuz6PeGfT8u2i8SZ9oDlgJndDrwPWO/uJ0ZtXwc+AWyIHvYld38wTML9mzdv3m5tOgxr7zS/8oeWpeRa56526PD9P3A/2tZvhyIorhiUbSseVU77xh10bm875NfPF+0bdlA0rJSisswha1ZklIwaRPsGzae4a397ByWjy7PTRcPLoMRoX79dy66vkqLsOi7hqQDLjTuAW4Af9Wn/d3e/OfdxCk9tbS2VlZW9NprT6TQNDQ173MAu9FyFQPNe4mpT/WvsfPntAXmtkjHl2cMPu6a3L1jHmhv+MCCvny/Kpo/oNV0yZjA7l2zSfEqAIacdkb1tRUbJ6HKan11D87NrAqaKn+GpqVRcNCN0DImoAMsBd3/KzGaEzlHI4notp7jmKgSa9xJXQysnMOioigF5rbKpw3tNj3j3NMomDuXQ96/ll0FHjew1XXHpkQyaNXKPj5X4MKB89phebaM/fCy73mwKEyjGyqYM3/+DJGfMXd1wLkQF2AN9DkH8O6AJWAB81t037+915syZ4wsWLDh8QfNY1wZ23K7lFNdchUDzPrfMbKG7zwmdI5fUZ4tIkhViv50L2gMWTh0wH/Do978CH9/TA83sauBqgGnTpuUqX96J67Wc4pqrEGjei8TTC488yJa1jb3ajj37fCbOOjZQIlj46/vZ9vb6Hi3G7PNSjD9yZrBM+azx1SUsfe6ZXm2jJ03l5HdfHCiRyMBRARaIu6/rum1m3wce2MdjbwVuhcy3qYc/XX6K67Wc4pqrEGjey97kw+BJSbVrewuP3fY9iktLKS7JbKa07dzFlnVrueLzNUEyNW96myd+9H1KSssoKskMZNC6cyctWzZz6ac/HyRTvvvDfXez8sUXKC3PDCLT0d5OR1sbs8+bS+mg8v08WyTeVIAFYmYT3f2taPIDwOKQefJdXK/lFNdchUDzXvbjDjR4UhBb1q0F4L2f+hzHnPkOAP732zeydd1b+3ra4c20PpPp8s99mRmnng7Az+Z/ma1RVhl4W9evZdaZ53DZZ64HYMkzT/Dgd2+macN6xkzR0UCSbCrAcsDM7gbmAmPNbDXwNWCumZ1K5hDEFcAnQ+UrBPu6llPIje245ioEmveyLyEHT2pvbcU7O0O8dSxsWrMagIpx47NtFUeMZ+VLi2jduQPD9vbUw5epcRUAI46Y0CvTsgXP0bZT15waaO6dNG1Yz9GVZ2fbKqJ5//bqNxkx9oi9PVX2oqikmOKS0tAxJKJBOBJGJ3SLSFIl7WTugRg86WD67Ptv/heWNfz+IBLnl2tu/ynlQ4cBsOg3D/D47f8dNI8VFfHpH91HSWlmI/b5++/l6Z/cETRTvrvwE9dmz/na3rSVuk98NHCi5DrzAx/h3L/8mwN+XtL67aTQHjAREZH+6dfgSYc6cNLx77yAScccd0hBk67iiPHZ4gtg9rlz8Y4OOtrbg2UaNXFytvgCODF1IcUlJXR2dATLlM+KS0s59pzzs9NDRlRw6XXz2LZxwz6eJXsTcgAb2Z32gCWM9oCJSFIl7ZvUvnvA+ntfT+qzRSTJktZvJ0VR6AAiIiJJYGYTe0xq8CQRETkoOgRRRESkDw2eJCIih4sKMBERkT7c/ao9NN+W8yAiIpJ3dAiiiIiIiIhIjmgPmIiISIw8Xf8aG1c1h44hInlk7NRhnFd1TOgYEtEeMBERERERkRzRHrA8VltbS2VlJalUKtuWTqdpaGhg3rx5AZPJ4aDl3U3zQpJM31KLiOQ3FWB5rLKykqqqKurr60mlUqTT6ey05B8t726aF5JkTQ8+yK7Xl/dqKzvqSCouvTRQIhlIu5a/QdODD0KP67CWjD+CUVVVAVPl1rbHHmPnK0t6tQ19xzkMOe20QIlEcksFWB5LpVLU19dTVVVFdXU1dXV12Q1SyT9a3t00LyTJmh56iG2P/rZ3Y1ERwy+8kKKysjChZMC8fdsP2Hrfz3drH3buuZROmhQgUW65O2vmfYHOlpZe7c1PP82R9fcESiWSWzoHLM+lUimqq6uZP38+1dXV2gDNc1re3TQvJKmmfPe7zP7zkuzPxJu+CZ2dtDU2ho4mA6DtzVUMPv307PKddnvm6gatq1YHTpYbHZs309nSwvgvfTE7D0ZWVdG2alXoaCI5owIsz6XTaerq6qipqaGuro50Oh06khxGWt7dNC8kX5RNnQpA2+rC2EDPd62rV1M2ZUp2ujS7fAujAOkqtEqnTM22lU6dQsfmzXQ0t+ztaSJ5RYcg5rGe572kUilSqVSvackvWt7dNC8kn3RtqK76xNVQpO9NE6+zM1t0AZROmAAlJbz15a/wVs1XAwbLkejct7Kp3UVo2dRpALxWWQlmQWLluzGfvJojrrsudAyJqADLYw0NDb02OLvOi2loaNBGaB7S8u6meSH5pHT8EUz4xjdoW/tW6CgyAKy4hJEf/lD3dGkpk751E7uWLQuYKrdKRo2m7Oijs9PDzj+PcZ/5DJ07dwRMld+GVlaGjiA9mPcYhUfib86cOb5gwYLQMUREDpiZLXT3OaFz5JL6bBFJskLst3NBxzKIiIiIiIjkiAowERERERGRHFEBJiIiIiIikiMqwERERERERHJEoyCKiIjEyLee/xZ/3vTn0DFEJI8cN/o4vnDGF0LHkIj2gImISF4ys7GhM4iIiPSlPWAiIpJXzKzI3TuBR4DTorbr3P0/wibrH31LLSKS31SAiYhIvnnSzFqACWZ2MfAS8DEgEQVYXutog0V3QWtLd1txKZz8ERg8MlisAbPq+cxPT5NPh+lnh8kjA2vtYlj+RO+2I46Do98dJI4klwowSbTa2loqKytJpVLZtnQ6TUNDA/PmzQuYbOAUwmeUblreh87dzzOzkcBCoBL4R+AYM/sp8KS714XMV9DeeAoe+Ofd270TzqrOeZwBd/81sPG13m0jp8M/vxgmjwysh6+HFU/3bisZDF9aA0U6q0f6T2uLJFplZSVVVVWk02kgs6FaVVVFZWVl4GQDpxA+o3TT8j50ZvYo8BmgE7jF3T8ELAXmAdtCZit4m5Znfl+7EK5flfkZNAI2vRE210Do7IDNK+Csa7o/2zuug62rMnv+JPk2vQEnXtm9fC/6JrTvgOZ1oZNJwqgAk0RLpVLU19dTVVXFV7/6Vaqqqqivr++19yDpCuEzSjct7wFxOfAUMAz4kZk9D0wHrgQ0vGBIm1dASTmMPgrKR2R+Rk7PtCfdtregoxXGzur+bGOPyezd27oqdDo5VO27oKkRxvRYvuOOydyXD+uv5JQOQZTES6VSVFdXM3/+fGpqavJyQ7UQPqN00/I+NO6+HXjMzNa6+2UAZvYSsAr4W2BByHz79fNPwmsPh05xeLS2wOgjex+uNWo6vPoQ3DQ9XK6B0NmR+T2qx+cYNSPz+7/Ph6LinEeSAeQOeJ/le2Tm911XZs5ljLNzroXzPx86hURUgEnipdNp6urqqKmpoa6ujlQqlXcbrIXwGaWblveAubLH7Wfc/V7g3lBh+m36OVBeETrF4TOzz7p87v+FEZPDZBlog4bB9Hd0T085I7PRu7MpXCYZOCWD4NhLuqdHHwXv+ipsS8AhiONPCp1AelABJonWdX5M1yFaqVQq7w7ZKoTPKN20vAeOuy/vcTs5Izyc/rHQCXJryumZn3xUUgYXfCV0CjlczOC8z4ZOIQmkc8ByxMxuN7P1Zra4R9toM3vUzJZGv0eFzJhEDQ0NvTZMu86faWhoCJxs4BTCZ5RuWt4iIiL5zdw9dIaCYGbnA83Aj9z9xKitFtjk7jeZ2fXAKHff5xU458yZ4wsWxPv0BRGRPTGzhe4+J3SO/jCz24H3Aet79NmjgXuAGcAKoMrdN+/rddRni0iSJanfThLtAcsRd38K2NSn+XLgzuj2ncAVucwkIpKvzKzIzKoO4SXuAC7u03Y98Ji7zwIei6ZFREQOiAqwsMa7+1vR7bXA+JBhRETyhbt3krnu18E+X1+aiYjIYaFBOGLC3d3M9ng8qJldDVwNMG3atJzmEhFJsN+a2efIHDbY0tXo7n0Lq/7KyZdm3/jVy7yyRqPmicjAOX7SCL522QmhY0hEBVhY68xsoru/ZWYTgfV7epC73wrcCpnzCXIZUEQkwT4S/b6mR5sDRx3qC+tLMxEROVgqwML6JfAx4Kbo9/1h44iI5A93P3KAXzInX5rpW2oRkfymc8ByxMzuBn4PHGtmq83sH8gUXhea2VLg3dG0iIgMADMbYmZfMbNbo+lZZva+Q3jJri/NQF+aiYjIQdIesBxx96v2cte7chpERKRw/BBYCJwTTTcCPwMe2N8Toy/N5gJjzWw18DUyX5LVR1+grQQOZZRFEREpUCrAREQkX81094+Y2VUA7r7dzKw/T9SXZiIicrjoEEQREclXrWY2mMzAG5jZTGBX2EgiIlLotAdMRETy1deAh4GpZvZj4B3A3wVN1A81S1ezuHlH6BgikkdOHDaY+bOmhI4hERVgIiKSl9z9UTP7I3AWYMB17r4xcCwRESlwKsBERCSfvRM4l8xhiKXAL8LG2T99Sy0ikt90DpiIiOQlM/se8H+Al4DFwCfN7L/CphIRkUKnPWAiIpKvLgBmu3vXIBx3Ai+HjSQiIoVOe8BERCRfLQOm9ZieGrWJiIgEoz1gIiKSV8zsV2TO+RoOLDGz56PpM4HnQ2YTERFRASYiIvnm5tABDsVrr81nW/OS0DFEJI8MHzabY46pCR1DIirAREQkr7j7k6EziIiI7I0KMBERyStm9oy7n2tm28gcepi9C3B3HxEoWr/oW2oRkfymAkxERPLNRwHcfXjoICIiIn1pFEQREck32Ystm9l9IYOIiIj0pQJMRETyjfW4fVSwFCIiInugAkxERPKN7+W2iIhIcDoHTERE8s0pZtZEZk/Y4Og2JGQQjoceeoi1a9eGjiEieWTChAlccskloWNIRAWYiIjkFXcvDp1BRERkb1SAiYiIxIi+pRYRyW8qwERERApY61stdGza2autbNpwioeXBUokceTtnex8fQu0d59WaWVFDJo5EiuyvT9RDqv2LTtpa2zp1VYybjClRwwJlEj6QwWYiIhIgfJOZ0Pdn/DWjl7t5cePYezfHh8olcTR9hfWs/nepbu1j/3HEyk/elSARAKw6Z5XaX2jqVdbcUUZE794ZqBE0h8qwERERApUR1Mr3trB8AumMviEsQBsfegN2jdsD5xM4qZtww4oNo74p1MB6NzRxsYfLKZ9ww5QARZM+4YdDD5xDMNT0wDYvnAdzc+uoXNXB0WDdDpsXKkAExERKVBdhx4OmlFB2eRhAJROGsquFU14p+vQMsnq2LSTklHl2fXE3aGkiPY+h69K7nTu6qCzuY3SycOzy6V943Z4Fjo276RowtDACWVvVICJiIjEyJYH32DX8i05ea/OHe0AlIwuz7aVjC6H9k7W37IIVIBJpH39DspmdF/BwcwoGV3O9oXr2PXG1oDJClh7J9D373cwAG/ftQQr794DNnTOeIadNSm3+WSvVIDJgKmtraWyspJUKpVtS6fTNDQ0MG/evIDJJAm0/sSfllFuFA0qpnhoaU7eq3hoKeUzR1LcYwOu/NjRDD5hCx5t3IkAFB9ZytAzJvZqG37eZHYs3hgokQCUjBvCoJkV2enSiUMZctoRdLa09XqclepwxDhRASYDprKykqqqKurr60mlUqTT6ey0yP5o/Yk/LaPcGPGuaUHfv2RUOWP+RgNwyP4NrZzA0MoJoWNID1ZSxOiqY0PHkP1QASYDJpVKUV9fT1VVFdXV1dTV1WU31ET2R+tP/GkZFa6WLZvZsGJ5r7aK8RMYNXFyoEQSV2uXvcbO5m3dDUVFTD52NqWDyvf+pBjYtGY1TevX9Wo74siZDKkYGSaQ5DUVYDKgUqkU1dXVzJ8/n5qaGm2YyQHR+hN/WkZgZiuAbUAH0O7uc8ImOvx+89//wRuLFvRqGzyigupb78JM54lJxpZ1a/nxl//vbu3nfPijnP2hqwIk6h935ydf/iy7tve+ntbRlWdx+ee+EiiV5DMVYDKg0uk0dXV11NTUUFdXRyqVKsgNNDk4Wn/iT8soK+XuBXPyy6bGVcw49XTOvvIvAXjtD8+w8Nf3s7OlmcHDhgdOJ3Gxac0qAN7zyU8zZspUAB74Ti2b1qwOGWu/WrZsZtf2FirffyVHV54FwO/qf8zbjfHOLcmlAkwGTM/zQbo2ynpOi+yL1p/40zIqTB3t7TRt3MBx75jLpGNmA7B961YW/vp+tq5bqwJMsrauWwvAUadVMnRk5tpgoyZNzrbHVVe+qceflF3Hj5hxFI1LFuOdnVhRUch4kodUgMmAaWho6LUh1nW+SENDgzbOZL+0/sSfllGWA4+YmQP/z91vHcgXf/ruO1m95OWBfMlD0tnRjnd2UjF+fLatYnxm4IWH/uvfKFcBJpGmjespKRvU67ypkUdM4OWnHuPur8Z3pNSd25qA7vUaYOT4CXS0t3N3zeex4uSPIHjC+Rdw8rsvDh1DIubuoTMUtAM9l2DOnDm+YMGCfT1ERCSWzGxhPpwvZWaT3b3RzI4AHgU+5e5P9bj/auBqgGnTpp2+cuXKA3r9Z3/2Yxr//MpARj5kJWVlvOsf/okRY8cBmb1iv6n7Di1bNgdOJnEz6djjeUfVR7PTq19ZzB9+cQ/eGe/LGgwbPYaL/s91FEXF1tb163j8h/9Ne2tr4GQDY/a5czkxdeEBPy9f+u24UQEWWFSAzenvuQT5UIDpWkJysJK+7iQ9/6HKx3/kZvZ1oNndb97T/fnQZ4tI4crHfjsOdFCr5FzXtYTS6TTQfV5JZWVl4GQSd0lfd5KeX8DMhprZ8K7bwHuAxWFTiYhIkugcsPAO67kEcaRrCcnBSvq6k/T8AsB44BfR0OslwE/c/eGwkUREJElUgIV3bs9zCczszz3PJYDdzicIkXHA6VpCcrCSvu4kPX+hc/flwCmhc4iISHLpEMTA3L0x+r0e+AVwxh4ec6u7z3H3OePGjct1xMOi77WEug7JEtmfpK87Sc8vIiIih0Z7wAKKzh8ocvdtPc4luCFwrMNO1xKSg5X0dSfp+SU3nq5/jY2rmkPHEJE8MnbqMM6rOiZ0DIloD1hY44FnzOxPwPPArwvhXIJ9XUtIZF+Svu4kPb+IiIgcOg1DnzAa0lhEkqoQhzNWny0iSVaI/XYu6BBEEREROWTe1sbOJUvwjo5sW/GIEQyaOTNgqmTyzs7MvOxxEeCiQYMYNHs20QicUgDaGhtpW7++V1v5McdQNHRooEQyUFSAiYiIyCHb9KMfsf7bu1+PeuZvHqZs+vQAiZKrOZ1m9TXX7tY+9db/x7Dzzw+QSHLN29pYftn76dy+vVd7xRVXMOmmbwZKJQNFBZiIiIgcsl1Ll1E8ZgyTbroJgNY3V7Ju/o3sev11FWAHaNfSZQBMqfseVlKKt+5i9TXXsmvpMhVgBaLtrbfo3L6d0f/wcYaedTYAG/7zP9m1bFngZDIQVICJiIjIIWtbvZqyGTMYdt65ALRvPoF182+kbfXqwMmSp3X1KorHjmV4j9FRi0aMoK1R87JQtK5aBcCwd76ToWdkrlC07be/ZdtvfhMylgwQFWAiIiIxsrGuju2LFoWOccB2vPwyI97znux08ciRFA0dyqb/uYvmZ54JmCx5di5+mbJp03q1lU2ZQtMjj9KqgrYgtK/LnPtVNnVqtq1s6hQ6tmzhzU9cDQd4KuCI976XkVdcMYAJ5VCoABMREYmRjuZmOjZvCR3jgA2aNYvhl1ycnTYzRv3VVbT84blEfp6QSidPpuIDH+jVVnHlB9n6v/drXhYIKytj+CUXUzJ+fLZt6HnnM/jxNB1bthzw6/mOHQOYTg6VhqFPGA1pLCJJVYjDGavPFpEkK8R+Oxd0IWaJrdraWtLpdK+2dDpNbW1toETJp3kqe6L1Ink6Ojt4ddOrvPL2K9mflU0rQ8eShNrVsavXuvTK26+wtmVt6FgDZlXTql6f7dVNr9LR2bH/J4ocJjoEUWKrsrKSqqoq6uvrSaVSpNPp7LQcHM1T2ROtF8nz82U/54bf37Bb+33vv49jRh0TIJEk2bcbvs09r97Tq21wyWCe+shTlJeUB0o1MJZvXc7l/3v5bu1fPOOL/NXsvwqQSEQFmMRYKpWivr6eqqoqqqurqaury24gysHRPJU90XqRPEs3L2VIyRBuOi8z5Pv67eu58bkbWbZ5mQowOWBLNy9l1qhZfOrUTwGwaMMifrj4hzQ2NzJzZLIvpL1sc2bY9i+e8UUmDp0IwFd+9xWWbdFw7hKOCjCJtVQqRXV1NfPnz6empkYbhANA81T2ROtFsjQ2NzJtxDRS0zLLaXvbdm587kYamxsDJ5Mkamxu5MyJZ2bXp1Hlo/KmAOv6m7hs5mUMLxsOwLQXp7F6m0aTlHBUgEmspdNp6urqqKmpoa6ujlQqpQ3DQ6R5Knui9SI+bnvpNl7c8OI+H7No/SLOnHBmdnpI6RDGlI/h50t/zuKNiw93RMkz67evZ8rwKdnprtu3LLqF+167L1SsAbFsyzIqBlVkiy/IfL5nGp/husevC5gsty6ccSHvO+p9oWNIRAWYxFbP81C6NgZ7TsuB0zyVPdF6ES8bd2xkdfO+v52fNHQSF824qFfbB2d9kCdXP7nf54r0NXvMbM6bfF52ekz5GC6cfiErm1Ymfn0qLynnXdPe1avtohkX8cbWNxL/2Q5E066m0BGkBw1DnzCFNKRxbW0tlZWVvTYA0+k0DQ0NzJs3L2Cy5NI8lT3J1XpRiMMZF1KfLSL5pxD77VxQAZYw+mcuIklViP/I1WcfRq0tsOXN3m3DJ8LgkUHiBLFtLezY3KPBYOwsKCoOFqngdXbC28vAewxzP2gEVEwOl+kQFGK/nQs6BLHAaY+IHG6FsI4VwmcUiZ17/hpef7x329hj4drnw+TJtZa34d9PhM623u3nz4MLvhwmk0DD9+GhPfT7n14Eo4/KfR6JJV2IucB1Xf+n6yKsXeeCVFZWBk4m+aIQ1rFC+IwisbPuZThqLnz4jszPiVfCxtegvTVwsBx5e2mm+Dr/893zoGIarH8ldLLCtm4xDB7VvUwujK7Xt35JyFQSM9oDVuB0/R853AphHSuEzygSK63boXkdVH4CTvhApq1tByy+D7augjHJHjq9XzavzPw++SOZww4BXri7u13C2LwCxhzdvV62vA2PflXLRXpRASa6/o8cdoWwjhXCZ5QcefYWWPPH0CnirXV75veoGd1tXbcf+AwMHZvrRLm38TXAoGJqd9uoGbD8Cbj344FCCWtegGN6jFA6ZDSUDYeFd0BjwPNBj7s0s5dYYkEFmOj6P3LYFcI6VgifUXJk8wp460+hU8TfhJNh2lk9pk+CKWdAU2PmpxCc9GEoLe+ePvbiTAGm9SecYePhuB7X2zKDU6/KnK8YcrlM1jgacaICrMDp+j9yuBXCOlYIn1Fy6NKbQydIpkHD4R8fDZ0irJkXFM4gJEny3m+HTiAxo0E4ClxDQ0OvjcSuc1kaGhoCJ5N8UQjrWCF8RhERERkYug5YwuiaMiKSVPlyPRkzuxj4D6AY+IG737S3x6rPFpEky5d+O260B0wkUltbmx1GvEs6naa2tjZQonA0L+JPyygMMysG/gu4BDgeuMrMjg+bSkREkkQFmEhE13LqpnkRf1pGwZwBLHP35e7eCvwUuDxwJhERSRANwiES0bWcumlexJ+WUTCTgVU9plcDZw7kG3zjVy/zypqmgXxJESlwx08awdcuOyF0DIloD5hIDz2v5VRdXV3QG7OaF/GnZRRPZna1mS0wswUbNmwIHUdERGJGe8BEetC1nLppXsSfllEQjUCPK98yJWrLcvdbgVshMwjHgb6BvqUWEclv2gMmEul5Lacbbrghe3hX34EOCoHmRfxpGQXTAMwysyPNrAz4S+CXgTOJiEiCqAATiehaTt00L+JPyygMd28HrgV+AywB6t395bCpREQkSXQdsITRNWVEJKkK8Xoy6rNFJMkKsd/OBe0BExERERERyREVYCIiIiIiIjmiQxATxsw2ACsP4qljgY0DHCeXkpw/ydlB+UNKcnbYPf90dx8XKkwIBdhnK3fuJTW7cufWweYuuH47F1SAFQgzW5DkY3iTnD/J2UH5Q0pydkh+/pCSOu+UO/eSml25cyupufOVDkEUERERERHJERVgIiIiIiIiOaICrHDcGjrAIUpy/iRnB+UPKcnZIfn5Q0rqvFPu3EtqduXOraTmzks6B0xERERERCRHtAdMREREREQkR1SA5Tkzu9jMXjWzZWZ2feg8B8rMVpjZS2b2gpktCJ1nf8zsdjNbb2aLe7SNNrNHzWxp9HtUyIz7spf8XzezxmgZvGBm7w2ZcW/MbKqZpc3sFTN72cyui9oTMf/3kT8p87/czJ43sz9F+b8RtR9pZs9FfdA9ZlYWOmvcJaXfTmp/l9S+Iul/Y2ZWbGaLzOyBaDopuXfbDon7ugJgZiPN7F4z+7OZLTGzs5OQu1CoAMtjZlYM/BdwCXA8cJWZHR821UFJufupCRk+9Q7g4j5t1wOPufss4LFoOq7uYPf8AP8eLYNT3f3BHGfqr3bgs+5+PHAWcE20vidl/u8tPyRj/u8CLnD3U4BTgYvN7CzgW2TyHw1sBv4hXMT4S1i/fQfJ7O+S2lck/W/sOmBJj+mk5Ibdt0Pivq4A/AfwsLsfB5xCZt4nIXdBUAGW384Alrn7cndvBX4KXB44U15z96eATX2aLwfujG7fCVyRy0wHYi/5E8Hd33L3P0a3t5H5ZzOZhMz/feRPBM9ojiZLox8HLgDujdpjO/9jJDH9dlL7u6T2FUn+GzOzKcClwA+iaSMBufch1uuKmVUA5wO3Abh7q7tvIea5C4kKsPw2GVjVY3o1CdqgizjwiJktNLOrQ4c5SOPd/a3o9lpgfMgwB+laM3sxOuQo9ocsmNkM4C+A50jg/O+THxIy/6NDjF4A1gOPAq8DW9y9PXpIEvugXEt6v52ov7ek9RUJ/hv7DjAP6Iymx5CM3LDn7ZC4rytHAhuAH0aHff7AzIYS/9wFQwWYxN257n4amcNxrjGz80MHOhSeGXY0aUOP1gEzyRzy8hbwr0HT7IeZDQPuA/7Z3Zt63peE+b+H/ImZ/+7e4e6nAlPI7Mk5LmwiCSnuf29J7CuS+DdmZu8D1rv7wtBZDtI+t0Niuq6UAKcBde7+F0ALfQ43jGnugqECLL81AlN7TE+J2hLD3Ruj3+uBX5D5h5M068xsIkD0e33gPAfE3ddF//Q7ge8T42VgZqVkNqh+7O4/j5oTM//3lD9J879LdKhLGjgbGGlmJdFdieuDAkh6v52Iv7ek9xUJ+xt7B/B+M1tB5pDaC8icnxT33MBet0Pivq6sBla7e9dRFPeSKcjinrtgqADLbw3ArGikoTLgL4FfBs7Ub2Y21MyGd90G3gMs3vezYumXwMei2x8D7g+Y5YB1ddaRDxDTZRCdU3AbsMTd/63HXYmY/3vLn6D5P87MRka3BwMXkjm3Jg18KHpYbOd/jCS63yYBf29J7SuS+jfm7l909ynuPoPM+vy4u3+UmOeGfW6HxHpdcfe1wCozOzZqehfwCjHPXUh0IeY8Z5khq78DFAO3u/u/hE3Uf2Z2FJlvmyCzO/0ncc9vZncDc4GxwDrga8D/AvXANGAlUOXusRzoYi/555I5/M2BFcAnexxDHhtmdi7wNPAS3ecZfInMuR2xn//7yH8VyZj/J5M5qbuYzJd79e5+Q/R3/FNgNLAI+Gt33xUuafwlpd9Oan+X1L4iH/7GzGwu8Dl3f18Scu9tO8TMxhDjdQXAzE4lM+hJGbAc+Hui9YYY5y4UKsBERERERERyRIcgioiIiIiI5IgKMBERERERkRxRASYiIiIiIpIjKsBERERERERyRAWYiIiIiIhIjqgAExEREYkBMxtjZi9EP2vNrDG63Wxm3wudT0QGhoahFxEREYkZM/s60OzuN4fOIiIDS3vARERERGLMzOaa2QPR7a+b2Z1m9rSZrTSzD5pZrZm9ZGYPm1lp9LjTzexJM1toZr8xs4lhP4WIdFEBJiIiIpIsM4ELgPcDdwFpdz8J2AFcGhVh3wU+5O6nA7cD/xIqrIj0VhI6gIiIiIgckIfcvc3MXgKKgYej9peAGcCxwInAo2ZG9Ji3AuQUkT1QASYiIiKSLLsA3L3TzNq8+4T+TjLbdga87O5nhwooInunQxBFRERE8surwDgzOxvAzErN7ITAmUQkogJMREREJI+4eyvwIeBbZvYn4AXgnKChRCRLw9CLiIiIiIjkiPaAiYiIiIiI5IgKMBERERERkRxRASYiIiIiIpIjKsBERERERERyRAWYiIiIiIhIjqgAExERERERyREVYCIiIiIiIjmiAkxERERERCRHVICJiIiIiIjkiAowERERERGRHFEBJiIiIiIikiMqwERERERERHJEBZiIiIiIiEiO/P+jbhwYKH15kgAAAABJRU5ErkJggg==",
            "_dom_classes": [],
            "_figure_label": "Figure 16",
            "_image_mode": "full",
            "_message": "",
            "_model_module": "jupyter-matplotlib",
            "_model_module_version": "^0.11",
            "_model_name": "MPLCanvasModel",
            "_rubberband_height": 0,
            "_rubberband_width": 0,
            "_rubberband_x": 0,
            "_rubberband_y": 0,
            "_size": [
              864,
              216
            ],
            "_view_count": null,
            "_view_module": "jupyter-matplotlib",
            "_view_module_version": "^0.11",
            "_view_name": "MPLCanvasView",
            "capture_scroll": false,
            "footer_visible": true,
            "header_visible": true,
            "layout": "IPY_MODEL_4857af6019ae456e8539e2aef85802f7",
            "pan_zoom_throttle": 33,
            "resizable": true,
            "toolbar": "IPY_MODEL_d9241ad40bbf4b9d8f2dc1fea7649bd2",
            "toolbar_position": "left",
            "toolbar_visible": "fade-in-fade-out"
          }
        },
        "4857af6019ae456e8539e2aef85802f7": {
          "model_module": "@jupyter-widgets/base",
          "model_name": "LayoutModel",
          "model_module_version": "1.2.0",
          "state": {
            "_model_module": "@jupyter-widgets/base",
            "_model_module_version": "1.2.0",
            "_model_name": "LayoutModel",
            "_view_count": null,
            "_view_module": "@jupyter-widgets/base",
            "_view_module_version": "1.2.0",
            "_view_name": "LayoutView",
            "align_content": null,
            "align_items": null,
            "align_self": null,
            "border": null,
            "bottom": null,
            "display": null,
            "flex": null,
            "flex_flow": null,
            "grid_area": null,
            "grid_auto_columns": null,
            "grid_auto_flow": null,
            "grid_auto_rows": null,
            "grid_column": null,
            "grid_gap": null,
            "grid_row": null,
            "grid_template_areas": null,
            "grid_template_columns": null,
            "grid_template_rows": null,
            "height": null,
            "justify_content": null,
            "justify_items": null,
            "left": null,
            "margin": null,
            "max_height": null,
            "max_width": null,
            "min_height": null,
            "min_width": null,
            "object_fit": null,
            "object_position": null,
            "order": null,
            "overflow": null,
            "overflow_x": null,
            "overflow_y": null,
            "padding": null,
            "right": null,
            "top": null,
            "visibility": null,
            "width": null
          }
        },
        "d9241ad40bbf4b9d8f2dc1fea7649bd2": {
          "model_module": "jupyter-matplotlib",
          "model_name": "ToolbarModel",
          "model_module_version": "^0.11",
          "state": {
            "_current_action": "",
            "_dom_classes": [],
            "_model_module": "jupyter-matplotlib",
            "_model_module_version": "^0.11",
            "_model_name": "ToolbarModel",
            "_view_count": null,
            "_view_module": "jupyter-matplotlib",
            "_view_module_version": "^0.11",
            "_view_name": "ToolbarView",
            "button_style": "",
            "collapsed": true,
            "layout": "IPY_MODEL_78c4543b4e084ddcbd95f1c4d64bf9ac",
            "orientation": "vertical",
            "toolitems": [
              [
                "Home",
                "Reset original view",
                "home",
                "home"
              ],
              [
                "Back",
                "Back to previous view",
                "arrow-left",
                "back"
              ],
              [
                "Forward",
                "Forward to next view",
                "arrow-right",
                "forward"
              ],
              [
                "Pan",
                "Left button pans, Right button zooms\nx/y fixes axis, CTRL fixes aspect",
                "arrows",
                "pan"
              ],
              [
                "Zoom",
                "Zoom to rectangle\nx/y fixes axis",
                "square-o",
                "zoom"
              ],
              [
                "Download",
                "Download plot",
                "floppy-o",
                "save_figure"
              ]
            ]
          }
        },
        "78c4543b4e084ddcbd95f1c4d64bf9ac": {
          "model_module": "@jupyter-widgets/base",
          "model_name": "LayoutModel",
          "model_module_version": "1.2.0",
          "state": {
            "_model_module": "@jupyter-widgets/base",
            "_model_module_version": "1.2.0",
            "_model_name": "LayoutModel",
            "_view_count": null,
            "_view_module": "@jupyter-widgets/base",
            "_view_module_version": "1.2.0",
            "_view_name": "LayoutView",
            "align_content": null,
            "align_items": null,
            "align_self": null,
            "border": null,
            "bottom": null,
            "display": null,
            "flex": null,
            "flex_flow": null,
            "grid_area": null,
            "grid_auto_columns": null,
            "grid_auto_flow": null,
            "grid_auto_rows": null,
            "grid_column": null,
            "grid_gap": null,
            "grid_row": null,
            "grid_template_areas": null,
            "grid_template_columns": null,
            "grid_template_rows": null,
            "height": null,
            "justify_content": null,
            "justify_items": null,
            "left": null,
            "margin": null,
            "max_height": null,
            "max_width": null,
            "min_height": null,
            "min_width": null,
            "object_fit": null,
            "object_position": null,
            "order": null,
            "overflow": null,
            "overflow_x": null,
            "overflow_y": null,
            "padding": null,
            "right": null,
            "top": null,
            "visibility": null,
            "width": null
          }
        }
      }
    }
  },
  "cells": [
    {
      "cell_type": "markdown",
      "metadata": {
        "id": "view-in-github",
        "colab_type": "text"
      },
      "source": [
        "<a href=\"https://colab.research.google.com/github/CSteinhardt153/CSteinhardt153/blob/main/basic_input_integration_collab.ipynb\" target=\"_parent\"><img src=\"https://colab.research.google.com/assets/colab-badge.svg\" alt=\"Open In Colab\"/></a>"
      ]
    },
    {
      "cell_type": "markdown",
      "source": [
        "# Get Free GPU to run the code below:"
      ],
      "metadata": {
        "id": "cEUaJptv6gkh"
      }
    },
    {
      "cell_type": "code",
      "execution_count": 1,
      "metadata": {
        "colab": {
          "base_uri": "https://localhost:8080/",
          "height": 35
        },
        "id": "cXoPr-Oh526W",
        "outputId": "a8d2a6c0-8204-492c-b2f7-f15874bd296f"
      },
      "outputs": [
        {
          "output_type": "execute_result",
          "data": {
            "text/plain": [
              "'/device:GPU:0'"
            ],
            "application/vnd.google.colaboratory.intrinsic+json": {
              "type": "string"
            }
          },
          "metadata": {},
          "execution_count": 1
        }
      ],
      "source": [
        "import tensorflow as tf\n",
        "tf.test.gpu_device_name()\n",
        "#!cat /proc/meminfo"
      ]
    },
    {
      "cell_type": "markdown",
      "source": [
        "# Getting Diretory Set up"
      ],
      "metadata": {
        "id": "-OO4XAJU8QyR"
      }
    },
    {
      "cell_type": "code",
      "source": [
        "!pip install ipympl\n",
        "\n"
      ],
      "metadata": {
        "colab": {
          "base_uri": "https://localhost:8080/"
        },
        "id": "wOavEVt_7Prm",
        "outputId": "04593eee-9eb4-48d7-a5c9-0352984c304a"
      },
      "execution_count": 4,
      "outputs": [
        {
          "output_type": "stream",
          "name": "stdout",
          "text": [
            "Looking in indexes: https://pypi.org/simple, https://us-python.pkg.dev/colab-wheels/public/simple/\n",
            "Collecting ipympl\n",
            "  Downloading ipympl-0.9.3-py2.py3-none-any.whl (511 kB)\n",
            "\u001b[2K     \u001b[90m━━━━━━━━━━━━━━━━━━━━━━━━━━━━━━━━━━━━━━\u001b[0m \u001b[32m511.6/511.6 KB\u001b[0m \u001b[31m15.9 MB/s\u001b[0m eta \u001b[36m0:00:00\u001b[0m\n",
            "\u001b[?25hRequirement already satisfied: traitlets<6 in /usr/local/lib/python3.8/dist-packages (from ipympl) (5.7.1)\n",
            "Requirement already satisfied: pillow in /usr/local/lib/python3.8/dist-packages (from ipympl) (8.4.0)\n",
            "Requirement already satisfied: ipywidgets<9,>=7.6.0 in /usr/local/lib/python3.8/dist-packages (from ipympl) (7.7.1)\n",
            "Requirement already satisfied: matplotlib<4,>=3.4.0 in /usr/local/lib/python3.8/dist-packages (from ipympl) (3.5.3)\n",
            "Requirement already satisfied: ipython-genutils in /usr/local/lib/python3.8/dist-packages (from ipympl) (0.2.0)\n",
            "Requirement already satisfied: numpy in /usr/local/lib/python3.8/dist-packages (from ipympl) (1.22.4)\n",
            "Requirement already satisfied: ipython<9 in /usr/local/lib/python3.8/dist-packages (from ipympl) (7.9.0)\n",
            "Requirement already satisfied: backcall in /usr/local/lib/python3.8/dist-packages (from ipython<9->ipympl) (0.2.0)\n",
            "Requirement already satisfied: pickleshare in /usr/local/lib/python3.8/dist-packages (from ipython<9->ipympl) (0.7.5)\n",
            "Requirement already satisfied: prompt-toolkit<2.1.0,>=2.0.0 in /usr/local/lib/python3.8/dist-packages (from ipython<9->ipympl) (2.0.10)\n",
            "Requirement already satisfied: pexpect in /usr/local/lib/python3.8/dist-packages (from ipython<9->ipympl) (4.8.0)\n",
            "Collecting jedi>=0.10\n",
            "  Downloading jedi-0.18.2-py2.py3-none-any.whl (1.6 MB)\n",
            "\u001b[2K     \u001b[90m━━━━━━━━━━━━━━━━━━━━━━━━━━━━━━━━━━━━━━━━\u001b[0m \u001b[32m1.6/1.6 MB\u001b[0m \u001b[31m36.2 MB/s\u001b[0m eta \u001b[36m0:00:00\u001b[0m\n",
            "\u001b[?25hRequirement already satisfied: decorator in /usr/local/lib/python3.8/dist-packages (from ipython<9->ipympl) (4.4.2)\n",
            "Requirement already satisfied: setuptools>=18.5 in /usr/local/lib/python3.8/dist-packages (from ipython<9->ipympl) (57.4.0)\n",
            "Requirement already satisfied: pygments in /usr/local/lib/python3.8/dist-packages (from ipython<9->ipympl) (2.6.1)\n",
            "Requirement already satisfied: ipykernel>=4.5.1 in /usr/local/lib/python3.8/dist-packages (from ipywidgets<9,>=7.6.0->ipympl) (5.3.4)\n",
            "Requirement already satisfied: widgetsnbextension~=3.6.0 in /usr/local/lib/python3.8/dist-packages (from ipywidgets<9,>=7.6.0->ipympl) (3.6.2)\n",
            "Requirement already satisfied: jupyterlab-widgets>=1.0.0 in /usr/local/lib/python3.8/dist-packages (from ipywidgets<9,>=7.6.0->ipympl) (3.0.5)\n",
            "Requirement already satisfied: kiwisolver>=1.0.1 in /usr/local/lib/python3.8/dist-packages (from matplotlib<4,>=3.4.0->ipympl) (1.4.4)\n",
            "Requirement already satisfied: fonttools>=4.22.0 in /usr/local/lib/python3.8/dist-packages (from matplotlib<4,>=3.4.0->ipympl) (4.38.0)\n",
            "Requirement already satisfied: pyparsing>=2.2.1 in /usr/local/lib/python3.8/dist-packages (from matplotlib<4,>=3.4.0->ipympl) (3.0.9)\n",
            "Requirement already satisfied: python-dateutil>=2.7 in /usr/local/lib/python3.8/dist-packages (from matplotlib<4,>=3.4.0->ipympl) (2.8.2)\n",
            "Requirement already satisfied: cycler>=0.10 in /usr/local/lib/python3.8/dist-packages (from matplotlib<4,>=3.4.0->ipympl) (0.11.0)\n",
            "Requirement already satisfied: packaging>=20.0 in /usr/local/lib/python3.8/dist-packages (from matplotlib<4,>=3.4.0->ipympl) (23.0)\n",
            "Requirement already satisfied: jupyter-client in /usr/local/lib/python3.8/dist-packages (from ipykernel>=4.5.1->ipywidgets<9,>=7.6.0->ipympl) (6.1.12)\n",
            "Requirement already satisfied: tornado>=4.2 in /usr/local/lib/python3.8/dist-packages (from ipykernel>=4.5.1->ipywidgets<9,>=7.6.0->ipympl) (6.2)\n",
            "Requirement already satisfied: parso<0.9.0,>=0.8.0 in /usr/local/lib/python3.8/dist-packages (from jedi>=0.10->ipython<9->ipympl) (0.8.3)\n",
            "Requirement already satisfied: wcwidth in /usr/local/lib/python3.8/dist-packages (from prompt-toolkit<2.1.0,>=2.0.0->ipython<9->ipympl) (0.2.6)\n",
            "Requirement already satisfied: six>=1.9.0 in /usr/local/lib/python3.8/dist-packages (from prompt-toolkit<2.1.0,>=2.0.0->ipython<9->ipympl) (1.15.0)\n",
            "Requirement already satisfied: notebook>=4.4.1 in /usr/local/lib/python3.8/dist-packages (from widgetsnbextension~=3.6.0->ipywidgets<9,>=7.6.0->ipympl) (6.3.0)\n",
            "Requirement already satisfied: ptyprocess>=0.5 in /usr/local/lib/python3.8/dist-packages (from pexpect->ipython<9->ipympl) (0.7.0)\n",
            "Requirement already satisfied: jinja2 in /usr/local/lib/python3.8/dist-packages (from notebook>=4.4.1->widgetsnbextension~=3.6.0->ipywidgets<9,>=7.6.0->ipympl) (3.1.2)\n",
            "Requirement already satisfied: jupyter-core>=4.6.1 in /usr/local/lib/python3.8/dist-packages (from notebook>=4.4.1->widgetsnbextension~=3.6.0->ipywidgets<9,>=7.6.0->ipympl) (5.2.0)\n",
            "Requirement already satisfied: prometheus-client in /usr/local/lib/python3.8/dist-packages (from notebook>=4.4.1->widgetsnbextension~=3.6.0->ipywidgets<9,>=7.6.0->ipympl) (0.16.0)\n",
            "Requirement already satisfied: terminado>=0.8.3 in /usr/local/lib/python3.8/dist-packages (from notebook>=4.4.1->widgetsnbextension~=3.6.0->ipywidgets<9,>=7.6.0->ipympl) (0.13.3)\n",
            "Requirement already satisfied: nbconvert in /usr/local/lib/python3.8/dist-packages (from notebook>=4.4.1->widgetsnbextension~=3.6.0->ipywidgets<9,>=7.6.0->ipympl) (6.5.4)\n",
            "Requirement already satisfied: pyzmq>=17 in /usr/local/lib/python3.8/dist-packages (from notebook>=4.4.1->widgetsnbextension~=3.6.0->ipywidgets<9,>=7.6.0->ipympl) (23.2.1)\n",
            "Requirement already satisfied: nbformat in /usr/local/lib/python3.8/dist-packages (from notebook>=4.4.1->widgetsnbextension~=3.6.0->ipywidgets<9,>=7.6.0->ipympl) (5.7.3)\n",
            "Requirement already satisfied: Send2Trash>=1.5.0 in /usr/local/lib/python3.8/dist-packages (from notebook>=4.4.1->widgetsnbextension~=3.6.0->ipywidgets<9,>=7.6.0->ipympl) (1.8.0)\n",
            "Requirement already satisfied: argon2-cffi in /usr/local/lib/python3.8/dist-packages (from notebook>=4.4.1->widgetsnbextension~=3.6.0->ipywidgets<9,>=7.6.0->ipympl) (21.3.0)\n",
            "Requirement already satisfied: platformdirs>=2.5 in /usr/local/lib/python3.8/dist-packages (from jupyter-core>=4.6.1->notebook>=4.4.1->widgetsnbextension~=3.6.0->ipywidgets<9,>=7.6.0->ipympl) (3.0.0)\n",
            "Requirement already satisfied: argon2-cffi-bindings in /usr/local/lib/python3.8/dist-packages (from argon2-cffi->notebook>=4.4.1->widgetsnbextension~=3.6.0->ipywidgets<9,>=7.6.0->ipympl) (21.2.0)\n",
            "Requirement already satisfied: MarkupSafe>=2.0 in /usr/local/lib/python3.8/dist-packages (from jinja2->notebook>=4.4.1->widgetsnbextension~=3.6.0->ipywidgets<9,>=7.6.0->ipympl) (2.1.2)\n",
            "Requirement already satisfied: lxml in /usr/local/lib/python3.8/dist-packages (from nbconvert->notebook>=4.4.1->widgetsnbextension~=3.6.0->ipywidgets<9,>=7.6.0->ipympl) (4.9.2)\n",
            "Requirement already satisfied: defusedxml in /usr/local/lib/python3.8/dist-packages (from nbconvert->notebook>=4.4.1->widgetsnbextension~=3.6.0->ipywidgets<9,>=7.6.0->ipympl) (0.7.1)\n",
            "Requirement already satisfied: jupyterlab-pygments in /usr/local/lib/python3.8/dist-packages (from nbconvert->notebook>=4.4.1->widgetsnbextension~=3.6.0->ipywidgets<9,>=7.6.0->ipympl) (0.2.2)\n",
            "Requirement already satisfied: entrypoints>=0.2.2 in /usr/local/lib/python3.8/dist-packages (from nbconvert->notebook>=4.4.1->widgetsnbextension~=3.6.0->ipywidgets<9,>=7.6.0->ipympl) (0.4)\n",
            "Requirement already satisfied: beautifulsoup4 in /usr/local/lib/python3.8/dist-packages (from nbconvert->notebook>=4.4.1->widgetsnbextension~=3.6.0->ipywidgets<9,>=7.6.0->ipympl) (4.6.3)\n",
            "Requirement already satisfied: bleach in /usr/local/lib/python3.8/dist-packages (from nbconvert->notebook>=4.4.1->widgetsnbextension~=3.6.0->ipywidgets<9,>=7.6.0->ipympl) (6.0.0)\n",
            "Requirement already satisfied: nbclient>=0.5.0 in /usr/local/lib/python3.8/dist-packages (from nbconvert->notebook>=4.4.1->widgetsnbextension~=3.6.0->ipywidgets<9,>=7.6.0->ipympl) (0.7.2)\n",
            "Requirement already satisfied: tinycss2 in /usr/local/lib/python3.8/dist-packages (from nbconvert->notebook>=4.4.1->widgetsnbextension~=3.6.0->ipywidgets<9,>=7.6.0->ipympl) (1.2.1)\n",
            "Requirement already satisfied: mistune<2,>=0.8.1 in /usr/local/lib/python3.8/dist-packages (from nbconvert->notebook>=4.4.1->widgetsnbextension~=3.6.0->ipywidgets<9,>=7.6.0->ipympl) (0.8.4)\n",
            "Requirement already satisfied: pandocfilters>=1.4.1 in /usr/local/lib/python3.8/dist-packages (from nbconvert->notebook>=4.4.1->widgetsnbextension~=3.6.0->ipywidgets<9,>=7.6.0->ipympl) (1.5.0)\n",
            "Requirement already satisfied: fastjsonschema in /usr/local/lib/python3.8/dist-packages (from nbformat->notebook>=4.4.1->widgetsnbextension~=3.6.0->ipywidgets<9,>=7.6.0->ipympl) (2.16.3)\n",
            "Requirement already satisfied: jsonschema>=2.6 in /usr/local/lib/python3.8/dist-packages (from nbformat->notebook>=4.4.1->widgetsnbextension~=3.6.0->ipywidgets<9,>=7.6.0->ipympl) (4.3.3)\n",
            "Requirement already satisfied: attrs>=17.4.0 in /usr/local/lib/python3.8/dist-packages (from jsonschema>=2.6->nbformat->notebook>=4.4.1->widgetsnbextension~=3.6.0->ipywidgets<9,>=7.6.0->ipympl) (22.2.0)\n",
            "Requirement already satisfied: pyrsistent!=0.17.0,!=0.17.1,!=0.17.2,>=0.14.0 in /usr/local/lib/python3.8/dist-packages (from jsonschema>=2.6->nbformat->notebook>=4.4.1->widgetsnbextension~=3.6.0->ipywidgets<9,>=7.6.0->ipympl) (0.19.3)\n",
            "Requirement already satisfied: importlib-resources>=1.4.0 in /usr/local/lib/python3.8/dist-packages (from jsonschema>=2.6->nbformat->notebook>=4.4.1->widgetsnbextension~=3.6.0->ipywidgets<9,>=7.6.0->ipympl) (5.12.0)\n",
            "Requirement already satisfied: cffi>=1.0.1 in /usr/local/lib/python3.8/dist-packages (from argon2-cffi-bindings->argon2-cffi->notebook>=4.4.1->widgetsnbextension~=3.6.0->ipywidgets<9,>=7.6.0->ipympl) (1.15.1)\n",
            "Requirement already satisfied: webencodings in /usr/local/lib/python3.8/dist-packages (from bleach->nbconvert->notebook>=4.4.1->widgetsnbextension~=3.6.0->ipywidgets<9,>=7.6.0->ipympl) (0.5.1)\n",
            "Requirement already satisfied: pycparser in /usr/local/lib/python3.8/dist-packages (from cffi>=1.0.1->argon2-cffi-bindings->argon2-cffi->notebook>=4.4.1->widgetsnbextension~=3.6.0->ipywidgets<9,>=7.6.0->ipympl) (2.21)\n",
            "Requirement already satisfied: zipp>=3.1.0 in /usr/local/lib/python3.8/dist-packages (from importlib-resources>=1.4.0->jsonschema>=2.6->nbformat->notebook>=4.4.1->widgetsnbextension~=3.6.0->ipywidgets<9,>=7.6.0->ipympl) (3.15.0)\n",
            "Installing collected packages: jedi, ipympl\n",
            "Successfully installed ipympl-0.9.3 jedi-0.18.2\n"
          ]
        }
      ]
    },
    {
      "cell_type": "code",
      "source": [
        "#Setting up all the needed widgets/imports:\n",
        "%reset -f\n",
        "#%load_ext autoreload \n",
        "#reimport modules when newer version \n",
        "#%autoreload 2 \n",
        "#Reload all modules (except those excluded by %aimport) every time before executing the Python code typed.\n",
        "%matplotlib widget \n",
        "#loads of interactive graphing features"
      ],
      "metadata": {
        "id": "IECu8rS38Wwi"
      },
      "execution_count": 5,
      "outputs": []
    },
    {
      "cell_type": "code",
      "source": [
        "\n",
        "import numpy as np\n",
        "import numpy.random as npr\n",
        "import random\n",
        "np.set_printoptions(linewidth=300)\n",
        "\n",
        "import scipy as sp\n",
        "\n",
        "import matplotlib\n",
        "from matplotlib import pyplot as plt\n",
        "\n",
        "from time import time\n",
        "\n",
        "import torch\n",
        "torch.set_printoptions(linewidth=200)\n",
        "import torch.nn as nn\n",
        "\n",
        "from google.colab import output\n",
        "output.enable_custom_widget_manager() \n",
        "#interactive widgets too!"
      ],
      "metadata": {
        "id": "2_A0tNIo793F"
      },
      "execution_count": 6,
      "outputs": []
    },
    {
      "cell_type": "markdown",
      "source": [
        "# Create the cochlear frequency map\n",
        "\n",
        "### inputs in this test case are a variety of different frequencies pulses running across the system.\n",
        "### cochlear frequency spacing by Greenwood equation: https://en.wikipedia.org/wiki/Greenwood_function#:~:text=According%20to%20Greenwood's%20paper%2C%20a,x%20is%20calculated%20in%20mm.\n",
        "\n",
        "<p> A is a scaling constant between the characteristic frequency and the upper frequency limit of the species <br>\n",
        "<p> a is the slope of the straight-line portion of the frequency-position curve, which has shown to be conserved throughout all investigated species after scaling the length of the cochlea <br>\n",
        "<p> x is the fractional length along the cochlear spiral measured from the apical end of the cochlea to the region of interest. 0 < x < 1. <br>\n",
        "<p> K is a constant of integration that represents the divergence from the log nature of the curve and is determined by the lower frequency audible limit in the species. <br>"
      ],
      "metadata": {
        "id": "GQS8G37i6psL"
      }
    },
    {
      "cell_type": "code",
      "source": [
        "#Greenwood equation:\n",
        "#make your cochlear fiber frequency spacing\n",
        "A = 165.4; a = 2.1; k = 0.88;\n",
        "n_fibers = 20\n",
        "x = np.linspace(0,1,n_fibers)\n",
        "freq = np.round(A*(10**(a*x) - k),1)\n"
      ],
      "metadata": {
        "id": "XqKZMcTD6t9w"
      },
      "execution_count": 7,
      "outputs": []
    },
    {
      "cell_type": "code",
      "source": [
        "#visualize the cochlear spacing:\n",
        "fig,ax = plt.subplots(figsize=(6,3))\n",
        "plt.subplots_adjust(bottom=0.2)\n",
        "#ax_box = plt.axes([0.1, 0.1, .8,.9])\n",
        "\n",
        "#fig=plt.figure()\n",
        "#ax = fig.add_axes([0,0,n_fibers,max(freq)])\n",
        "plt.plot(np.arange(n_fibers), freq,'k.-') #, 'k')\n",
        "plt.xlabel('Fiber #')\n",
        "plt.ylabel('Frequency')\n",
        "plt.title('Cochlear Freqs')\n",
        "plt.show()"
      ],
      "metadata": {
        "colab": {
          "base_uri": "https://localhost:8080/",
          "height": 350,
          "referenced_widgets": [
            "06f34eb7b4e145c993b7ef3153aa2b57",
            "ab259086e5c941b7a125a060871a812d",
            "98cc506c2c6b4bdb9e01ea276509ec61",
            "27ea9fb717824e6f9c4386df1621cc6b"
          ]
        },
        "id": "3VgaYCQu7OhG",
        "outputId": "2c76c859-3ac9-4523-d3d6-c66a8a453b0f"
      },
      "execution_count": 8,
      "outputs": [
        {
          "output_type": "display_data",
          "data": {
            "text/plain": [
              "Canvas(toolbar=Toolbar(toolitems=[('Home', 'Reset original view', 'home', 'home'), ('Back', 'Back to previous …"
            ],
            "image/png": "[encoded data removed]",
            "text/html": [
              "\n",
              "            <div style=\"display: inline-block;\">\n",
              "                <div class=\"jupyter-widgets widget-label\" style=\"text-align: center;\">\n",
              "                    Figure\n",
              "                </div>\n",
              "                <img src='data:image/png;base64,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' width=432.0/>\n",
              "            </div>\n",
              "        "
            ],
            "application/vnd.jupyter.widget-view+json": {
              "version_major": 2,
              "version_minor": 0,
              "model_id": "06f34eb7b4e145c993b7ef3153aa2b57"
            }
          },
          "metadata": {
            "application/vnd.jupyter.widget-view+json": {
              "colab": {
                "custom_widget_manager": {
                  "url": "https://ssl.gstatic.com/colaboratory-static/widgets/colab-cdn-widget-manager/b3e629b1971e1542/manager.min.js"
                }
              }
            }
          }
        }
      ]
    },
    {
      "cell_type": "markdown",
      "source": [
        "# Inputs to Model"
      ],
      "metadata": {
        "id": "NQs559Sc8tK3"
      }
    },
    {
      "cell_type": "code",
      "source": [
        "#Get device to a GPU!\n",
        "torch.cuda.is_available()\n",
        "def get_default_device():\n",
        "    \"\"\"Pick GPU if available, else CPU\"\"\"\n",
        "    if torch.cuda.is_available():\n",
        "        return torch.device('cuda')\n",
        "    else:\n",
        "        return torch.device('cpu')\n",
        "device = get_default_device()\n",
        "device"
      ],
      "metadata": {
        "colab": {
          "base_uri": "https://localhost:8080/",
          "height": 35
        },
        "id": "e9qK6J0b-Ccc",
        "outputId": "8fd78598-6199-4315-cb6b-ff5802d837fd"
      },
      "execution_count": 9,
      "outputs": [
        {
          "output_type": "execute_result",
          "data": {
            "text/plain": [
              "device(type='cuda')"
            ]
          },
          "metadata": {},
          "execution_count": 9
        }
      ]
    },
    {
      "cell_type": "code",
      "source": [
        "#Make inputs\n",
        "dt = .1  # in tau\n",
        "stim_dt = 2 #after how many dt stim value changes\n",
        "stim_len = 1\n",
        "sigma = .1 #task diffiuclty\n",
        "biases = [-1, -.5, -.25, 0, .25, .5, 1]\n",
        "\n",
        "\n",
        "#Separate into high/low frequencies\n",
        "category_divide = (np.arange(n_fibers) < n_fibers //2)\n",
        "f_h = freq[~category_divide] #high freq\n",
        "f_l = freq[category_divide] #low freq\n",
        "\n",
        "b = biases[5]\n",
        "if b < 0:\n",
        "  #print(b)\n",
        "  n_bias_freq = round(abs(b)*n_fibers/2)\n",
        "  freq_choice= np.concatenate((np.random.choice(range(0,10),n_bias_freq,replace = False),\n",
        "  np.random.choice(range(10,20),round(n_fibers/2 - n_bias_freq),replace = False)),axis =0)\n",
        "else:\n",
        "  #print(b)\n",
        "  n_bias_freq = round(abs(b)*n_fibers/2)\n",
        "  freq_choice = np.concatenate((np.random.choice(range(0,10),round(n_fibers/2 - n_bias_freq),replace = False),\n",
        "  np.random.choice(range(10,20),n_bias_freq,replace = False)),axis =0)\n",
        "#print(freq_choice)\n",
        "\n",
        "n_f_reps = 2 #2 reps per sample\n",
        "freq_burst_ord = np.random.choice(freq_choice,round(n_fibers/2), replace = False)\n",
        "for n in range(n_f_reps):\n",
        "  cur_sample = np.random.choice(freq_choice,round(n_fibers/2), replace = False)\n",
        "  freq_burst_ord = np.concatenate((freq_burst_ord,cur_sample))\n",
        "#print(freq_burst_ord.shape[0])\n",
        "\n",
        "t = (freq_burst_ord.shape[0]*stim_dt)  # Time in time\n",
        "T = t / dt #n steps\n",
        "#print(t,T)\n",
        "stim_in= np.zeros((n_fibers,round(T)))\n",
        "\n",
        "for n_f in range(freq_burst_ord.shape[0]):\n",
        "  #print(n_f,freq_burst_ord[n_f],n_f*stim_dt/dt)\n",
        "  #print(np.ones((1,round(stim_len/dt))).shape)\n",
        "  stim_in[freq_burst_ord[n_f],round(n_f*stim_dt/dt):round(n_f*stim_dt/dt + stim_len/dt)] = np.ones((1,round(stim_len/dt)))\n",
        "print(stim_in.shape)\n"
      ],
      "metadata": {
        "id": "OEEonzU48vF-",
        "colab": {
          "base_uri": "https://localhost:8080/"
        },
        "outputId": "1464b0cf-46bb-4a5e-a088-fa977c8b1a52"
      },
      "execution_count": 22,
      "outputs": [
        {
          "output_type": "stream",
          "name": "stdout",
          "text": [
            "(20, 600)\n"
          ]
        }
      ]
    },
    {
      "cell_type": "code",
      "source": [
        "#visualize the cochlear spacing:\n",
        "fig,ax = plt.subplots(1,2,figsize=(12,3))\n",
        "plt.subplots_adjust(bottom=0.2)\n",
        "#ax_box = plt.axes([0.1, 0.1, .8,.9])\n",
        "\n",
        "#fig=plt.figure()\n",
        "#ax = fig.add_axes([0,0,n_fibers,max(freq)])\n",
        "ax[0].plot(np.arange(freq_burst_ord.shape[0]), freq_burst_ord,'kx') #, 'k')\n",
        "plt.ylabel('Fiber #')\n",
        "plt.xlabel('Time')\n",
        "plt.title('Sample Input')\n",
        "\n",
        "time_scale = np.arange(0,t,dt)\n",
        "#print(time_scale.shape,stim_in.shape)\n",
        "for f in range(n_fibers):\n",
        "  ax[1].plot(time_scale,.5*stim_in[f,:]+f)\n",
        "\n",
        "ax[0].set_title(f'bias: {b}')\n",
        "plt.show()\n"
      ],
      "metadata": {
        "colab": {
          "base_uri": "https://localhost:8080/",
          "height": 305,
          "referenced_widgets": [
            "b0dc7df965f34293a52d12a0233bea46",
            "4857af6019ae456e8539e2aef85802f7",
            "d9241ad40bbf4b9d8f2dc1fea7649bd2",
            "78c4543b4e084ddcbd95f1c4d64bf9ac"
          ]
        },
        "id": "DWRz9JeN2hwx",
        "outputId": "a8a7ad0e-b201-4c11-b385-46a19152e5a5"
      },
      "execution_count": 26,
      "outputs": [
        {
          "output_type": "display_data",
          "data": {
            "text/plain": [
              "Canvas(toolbar=Toolbar(toolitems=[('Home', 'Reset original view', 'home', 'home'), ('Back', 'Back to previous …"
            ],
            "image/png": "[encoded data removed]",
            "text/html": [
              "\n",
              "            <div style=\"display: inline-block;\">\n",
              "                <div class=\"jupyter-widgets widget-label\" style=\"text-align: center;\">\n",
              "                    Figure\n",
              "                </div>\n",
              "                <img src='data:image/png;base64,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' width=864.0/>\n",
              "            </div>\n",
              "        "
            ],
            "application/vnd.jupyter.widget-view+json": {
              "version_major": 2,
              "version_minor": 0,
              "model_id": "b0dc7df965f34293a52d12a0233bea46"
            }
          },
          "metadata": {
            "application/vnd.jupyter.widget-view+json": {
              "colab": {
                "custom_widget_manager": {
                  "url": "https://ssl.gstatic.com/colaboratory-static/widgets/colab-cdn-widget-manager/b3e629b1971e1542/manager.min.js"
                }
              }
            }
          }
        }
      ]
    },
    {
      "cell_type": "code",
      "source": [
        "def stimulus_batch(S, sigma, inorder=False):\n",
        "  out = []\n",
        "  y = []\n",
        "  for s in range(S):\n",
        "    idx = s % len(biases) if inorder else npr.randint(len(biases))\n",
        "    b = biases[idx]\n",
        "    y.append(idx >= len(biases) // 2)\n",
        "    #print(idx,biases,idx >= len(biases) // 2)\n",
        "#     print(t,stim_dt, npr.normal(b, sigma,(round(t / stim_dt), 1)).shape)\n",
        "#     print(stim_dt, dt,np.ones(round(stim_dt / dt)).shape)\n",
        "#     print((npr.normal(b, sigma, (round(t / stim_dt), 1)) * np.ones(round(stim_dt / dt))).flatten().shape)\n",
        "    out.append((npr.normal(b, sigma, (round(t / stim_dt), 1)) * np.ones(round(stim_dt / dt))).flatten())\n",
        "  return torch.tensor(np.stack(out), device = \"cuda\", dtype=torch.float32), torch.tensor(y, device = \"cuda\", dtype=torch.float32)"
      ],
      "metadata": {
        "id": "CQBLeWol8xfn"
      },
      "execution_count": null,
      "outputs": []
    },
    {
      "cell_type": "code",
      "source": [
        "fig, axes = plt.subplots(2, 4, sharex=True, sharey=True)\n",
        "axes = axes.flatten()\n",
        "sigma= .1\n",
        "X, Y = stimulus_batch(len(biases), sigma,inorder=True)\n",
        "X_c =X.cpu()\n",
        "Y_c =Y.cpu()\n",
        "print(X_c.shape,Y_c.shape)\n",
        "for x, y, b, a in zip(X_c, Y_c, biases, axes):\n",
        "  a.plot([0, t], [0, 0], 'k')\n",
        "  a.plot(ts, x, color='tab:red' if y == 0 else 'tab:green')\n",
        "  a.set_title(f'bias: {b}')"
      ],
      "metadata": {
        "colab": {
          "base_uri": "https://localhost:8080/",
          "height": 371,
          "referenced_widgets": [
            "16ac3fde588f4d48a9a61b701331256e",
            "ff33a338118a489caa0531e5536aa5f1",
            "2a6cb55fe22d47e5b5a74b6e9437fd7c",
            "767fb84b1a8e41589f61fe446817b4ad"
          ]
        },
        "id": "RX-Rp0oN80Wq",
        "outputId": "fa00dc04-feff-40af-ea71-40870aec6ec7"
      },
      "execution_count": null,
      "outputs": [
        {
          "output_type": "stream",
          "name": "stdout",
          "text": [
            "torch.Size([8, 1000]) torch.Size([8])\n"
          ]
        },
        {
          "output_type": "display_data",
          "data": {
            "text/plain": [
              "Canvas(toolbar=Toolbar(toolitems=[('Home', 'Reset original view', 'home', 'home'), ('Back', 'Back to previous …"
            ],
            "image/png": "[encoded data removed]",
            "text/html": [
              "\n",
              "            <div style=\"display: inline-block;\">\n",
              "                <div class=\"jupyter-widgets widget-label\" style=\"text-align: center;\">\n",
              "                    Figure\n",
              "                </div>\n",
              "                <img src='data:image/png;base64,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' width=432.0/>\n",
              "            </div>\n",
              "        "
            ],
            "application/vnd.jupyter.widget-view+json": {
              "version_major": 2,
              "version_minor": 0,
              "model_id": "16ac3fde588f4d48a9a61b701331256e"
            }
          },
          "metadata": {
            "application/vnd.jupyter.widget-view+json": {
              "colab": {
                "custom_widget_manager": {
                  "url": "https://ssl.gstatic.com/colaboratory-static/widgets/colab-cdn-widget-manager/b3e629b1971e1542/manager.min.js"
                }
              }
            }
          }
        }
      ]
    },
    {
      "cell_type": "markdown",
      "source": [
        "# Network Model"
      ],
      "metadata": {
        "id": "Kf60aroN8393"
      }
    },
    {
      "cell_type": "code",
      "source": [
        "N=50 #neurons in RNN for detecting \n",
        "\n",
        "class CTRNN(nn.Module):\n",
        "\n",
        "  def __init__(self, N, dt,device):\n",
        "    super().__init__()\n",
        "    self.dt = dt\n",
        "    self.N = N\n",
        "    self.rnn = nn.Linear(N, N, bias=False)\n",
        "    self.input = nn.Linear(1, N)\n",
        "    self.output = nn.Linear(N, 1)\n",
        "    self.act = nn.Tanh()\n",
        "    self.device = device\n",
        "\n",
        "  def forward(self, X):\n",
        "    h = torch.zeros(self.N,device = self.device)\n",
        "    #print(h.device,X,device)\n",
        "    Y = []\n",
        "    X = X.transpose(0, 1)\n",
        "\n",
        "    #print('xh', self.input(X[0,1]).shape)\n",
        "    for x in X:\n",
        "      #print('x+in',x.shape)#self.input(x))\n",
        "      #print('x_trans_in',self.input(torch.unsqueeze(x,1)).shape)\n",
        "      #print('hh*h',self.rnn(h).shape)\n",
        "      #tmp = self.act(self.rnn(h) + self.input(torch.unsqueeze(x,1)))\n",
        "      #print('act_out',tmp.shape)\n",
        "      #print(self.rnn(h).device)\n",
        "      h = h * (1 - self.dt) + self.dt * self.act(self.rnn(h) + self.input(torch.unsqueeze(x,1)))#self.input(x))\n",
        "      tmp =self.output(h)\n",
        "      #print('h_out',tmp.device)\n",
        "      Y.append((self.output(h)))\n",
        "    Y = torch.stack(Y).transpose(1, 0)\n",
        "    #print(Y.device)\n",
        "    #print('Y',Y.shape)\n",
        "    return Y\n"
      ],
      "metadata": {
        "id": "5WCmYiwc89G0"
      },
      "execution_count": null,
      "outputs": []
    },
    {
      "cell_type": "markdown",
      "source": [
        "# Train Network"
      ],
      "metadata": {
        "id": "cdcZko0y8_kt"
      }
    },
    {
      "cell_type": "code",
      "source": [
        "#Demo messing around:\n",
        "S = 10\n",
        "inp, out = stimulus_batch(S,sigma=0.1)\n",
        "#print(device,inp.is_cuda)\n",
        "#print(inp.shape,inp[1][None,...][:,-1].shape,out.shape)\n",
        "c = CTRNN(N,dt,device)\n",
        "c.to(device)\n",
        "c.forward(inp).shape"
      ],
      "metadata": {
        "colab": {
          "base_uri": "https://localhost:8080/"
        },
        "id": "X5JCMBGQAVQM",
        "outputId": "2a58d00a-623b-401d-cbce-e16f7d6e9c5d"
      },
      "execution_count": null,
      "outputs": [
        {
          "output_type": "execute_result",
          "data": {
            "text/plain": [
              "torch.Size([10, 1000, 1])"
            ]
          },
          "metadata": {},
          "execution_count": 27
        }
      ]
    },
    {
      "cell_type": "code",
      "source": [
        "fig, axes = plt.subplots(1, 2)\n",
        "\n",
        "epochs = 1000 #000\n",
        "lr = 1e-4\n",
        "rnn = CTRNN(N, dt,device)\n",
        "rnn.to(device)\n",
        "\n",
        "loss_fx = nn.BCEWithLogitsLoss()\n",
        "opt = torch.optim.AdamW(rnn.parameters(), lr=lr)\n",
        "batch_size = 128\n",
        "sig = nn.Sigmoid()\n",
        "losses = []\n",
        "accs = []\n",
        "\n",
        "st = time()\n",
        "for e in range(epochs + 1):\n",
        "  opt.zero_grad()\n",
        "  x, y = stimulus_batch(batch_size,sigma)\n",
        "  x = x.to(device)\n",
        "  y = y.to(device)\n",
        "  #print(x.is_cuda,y.is_cuda)\n",
        "  #print(x.shape,y.shape)\n",
        "  logits = rnn(x[..., None])[:, -1, 0]\n",
        "  #print(logits.is_cuda)\n",
        "  y_comp =torch.unsqueeze(y,1)\n",
        "  #print('logit',logits.shape,y_comp.shape,(sig(logits.detach()) > .5).transpose(0,1))\n",
        "  #print(y)\n",
        "  #print('acc:',((sig(logits.detach()) > .5) == y_comp))\n",
        "  #print('acc:',((sig(logits.detach()) > .5) == y_comp).to(torch.float32).mean())\n",
        "  acc = ((sig(logits.detach()) > .5).transpose(0,1) == y).to(torch.float32).mean().to('cpu')\n",
        "  loss = loss_fx(logits, y_comp)\n",
        "  losses.append(loss.to('cpu').item())\n",
        "  accs.append(acc)\n",
        "  if e % 25 == 0:\n",
        "    print(f'epoch: {e}, loss: {loss:.3e}, accuracy: {acc:.3f}')\n",
        "    axes[0].cla()\n",
        "    axes[0].semilogy(losses)\n",
        "    axes[0].set_ylabel('loss')\n",
        "    axes[0].set_xlabel('epoch')\n",
        "    axes[1].cla()\n",
        "    axes[1].plot(accs)\n",
        "    axes[1].set_ylabel('accuracy')\n",
        "    axes[1].set_xlabel('epoch')\n",
        "    fig.canvas.draw()\n",
        "    fig.canvas.flush_events()\n",
        "\n",
        "  if e < epochs:\n",
        "    loss.backward()\n",
        "    opt.step()\n",
        "\n",
        "et = time()  \n",
        "print('Run time: ',et-st, ' s')"
      ],
      "metadata": {
        "colab": {
          "base_uri": "https://localhost:8080/",
          "height": 1000,
          "referenced_widgets": [
            "d6f9a2d98a2e4e4ab9e3d96f74fc2f8d",
            "32353367ddb9411388324452b8eb7304",
            "cfd7a2d2347f41c693814e64b9e9b99c",
            "e768d703fec54ee2a0c23cb8689a350b"
          ]
        },
        "id": "w3nFTY1183Ub",
        "outputId": "f5d9202f-31d6-4eb8-c1c4-9061066fa470"
      },
      "execution_count": null,
      "outputs": [
        {
          "output_type": "stream",
          "name": "stdout",
          "text": [
            "epoch: 0, loss: 7.688e-01, accuracy: 0.516\n",
            "epoch: 25, loss: 7.471e-01, accuracy: 0.445\n",
            "epoch: 50, loss: 6.959e-01, accuracy: 0.477\n",
            "epoch: 75, loss: 6.533e-01, accuracy: 0.461\n",
            "epoch: 100, loss: 6.140e-01, accuracy: 0.750\n",
            "epoch: 125, loss: 5.821e-01, accuracy: 0.797\n",
            "epoch: 150, loss: 5.191e-01, accuracy: 0.867\n",
            "epoch: 175, loss: 4.538e-01, accuracy: 0.883\n",
            "epoch: 200, loss: 4.254e-01, accuracy: 0.844\n",
            "epoch: 225, loss: 3.711e-01, accuracy: 0.914\n",
            "epoch: 250, loss: 3.473e-01, accuracy: 0.867\n",
            "epoch: 275, loss: 2.839e-01, accuracy: 0.891\n",
            "epoch: 300, loss: 2.880e-01, accuracy: 0.875\n",
            "epoch: 325, loss: 2.926e-01, accuracy: 0.867\n",
            "epoch: 350, loss: 2.820e-01, accuracy: 0.875\n",
            "epoch: 375, loss: 2.508e-01, accuracy: 0.898\n",
            "epoch: 400, loss: 2.153e-01, accuracy: 0.898\n",
            "epoch: 425, loss: 2.287e-01, accuracy: 0.914\n",
            "epoch: 450, loss: 2.299e-01, accuracy: 0.891\n",
            "epoch: 475, loss: 2.155e-01, accuracy: 0.898\n",
            "epoch: 500, loss: 2.443e-01, accuracy: 0.898\n",
            "epoch: 525, loss: 2.328e-01, accuracy: 0.883\n",
            "epoch: 550, loss: 3.120e-01, accuracy: 0.805\n",
            "epoch: 575, loss: 2.020e-01, accuracy: 0.914\n",
            "epoch: 600, loss: 1.947e-01, accuracy: 0.914\n",
            "epoch: 625, loss: 2.154e-01, accuracy: 0.875\n",
            "epoch: 650, loss: 1.712e-01, accuracy: 0.930\n",
            "epoch: 675, loss: 2.396e-01, accuracy: 0.859\n",
            "epoch: 700, loss: 2.091e-01, accuracy: 0.867\n",
            "epoch: 725, loss: 2.718e-01, accuracy: 0.836\n",
            "epoch: 750, loss: 1.816e-01, accuracy: 0.922\n",
            "epoch: 775, loss: 2.448e-01, accuracy: 0.828\n",
            "epoch: 800, loss: 2.254e-01, accuracy: 0.852\n",
            "epoch: 825, loss: 2.062e-01, accuracy: 0.875\n",
            "epoch: 850, loss: 2.453e-01, accuracy: 0.836\n",
            "epoch: 875, loss: 2.088e-01, accuracy: 0.875\n",
            "epoch: 900, loss: 2.078e-01, accuracy: 0.891\n",
            "epoch: 925, loss: 2.239e-01, accuracy: 0.820\n",
            "epoch: 950, loss: 2.333e-01, accuracy: 0.836\n",
            "epoch: 975, loss: 2.194e-01, accuracy: 0.883\n",
            "epoch: 1000, loss: 1.988e-01, accuracy: 0.891\n",
            "Run time:  658.3702499866486  s\n"
          ]
        },
        {
          "output_type": "display_data",
          "data": {
            "text/plain": [
              "Canvas(toolbar=Toolbar(toolitems=[('Home', 'Reset original view', 'home', 'home'), ('Back', 'Back to previous …"
            ],
            "image/png": "[encoded data removed]",
            "text/html": [
              "\n",
              "            <div style=\"display: inline-block;\">\n",
              "                <div class=\"jupyter-widgets widget-label\" style=\"text-align: center;\">\n",
              "                    Figure\n",
              "                </div>\n",
              "                <img src='data:image/png;base64,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' width=432.0/>\n",
              "            </div>\n",
              "        "
            ],
            "application/vnd.jupyter.widget-view+json": {
              "version_major": 2,
              "version_minor": 0,
              "model_id": "d6f9a2d98a2e4e4ab9e3d96f74fc2f8d"
            }
          },
          "metadata": {
            "application/vnd.jupyter.widget-view+json": {
              "colab": {
                "custom_widget_manager": {
                  "url": "https://ssl.gstatic.com/colaboratory-static/widgets/colab-cdn-widget-manager/b3e629b1971e1542/manager.min.js"
                }
              }
            }
          }
        }
      ]
    }
  ]
}